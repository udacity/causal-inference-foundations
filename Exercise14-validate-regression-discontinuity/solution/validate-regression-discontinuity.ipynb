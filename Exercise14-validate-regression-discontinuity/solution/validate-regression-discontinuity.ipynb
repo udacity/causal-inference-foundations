{
 "cells": [
  {
   "cell_type": "markdown",
   "metadata": {},
   "source": [
    "#### Exercise 14 - Solution - Validate Regression Discontinuity"
   ]
  },
  {
   "cell_type": "code",
   "execution_count": 15,
   "metadata": {},
   "outputs": [],
   "source": [
    "import pandas as pd\n",
    "import statsmodels.formula.api as smf\n",
    "from scipy.stats import ttest_ind\n"
   ]
  },
  {
   "cell_type": "code",
   "execution_count": 19,
   "metadata": {},
   "outputs": [
    {
     "name": "stdout",
     "output_type": "stream",
     "text": [
      "Part-Time Share by Training Status:\n",
      "Training\n",
      "0    0.28202\n",
      "1    0.00000\n",
      "Name: Part_Time, dtype: float64\n",
      "\n",
      "T-test for Part-Time mean by Training status:\n",
      "T-statistic: -8.584750131477158, P-value: 3.450607472043139e-17\n"
     ]
    }
   ],
   "source": [
    "\n",
    "df = pd.read_csv(\"../data/rd_employee_sales_data.csv\")\n",
    "\n",
    "print(\"Part-Time Share by Training Status:\")\n",
    "print(df.groupby(\"Training\")['Part_Time'].agg('mean'))\n",
    "\n",
    "# Perform a t-test for difference in Part_Time mean by Training status\n",
    "trained = df[df[\"Training\"] == 1][\"Part_Time\"]\n",
    "not_trained = df[df[\"Training\"] == 0][\"Part_Time\"]\n",
    "\n",
    "t_stat, p_value = ttest_ind(trained, not_trained)\n",
    "print(\"\\nT-test for Part-Time mean by Training status:\")\n",
    "print(f\"T-statistic: {t_stat}, P-value: {p_value}\")"
   ]
  },
  {
   "cell_type": "code",
   "execution_count": 21,
   "metadata": {},
   "outputs": [
    {
     "name": "stdout",
     "output_type": "stream",
     "text": [
      "Part-Time Share by Training Status: Workers Near Cutoff:\n",
      "Training\n",
      "0    0.0\n",
      "1    0.0\n",
      "Name: Part_Time, dtype: float64\n"
     ]
    }
   ],
   "source": [
    "# Subset using a +/- 10 window around the cutoff plus the running variable \n",
    "cutoff = 40\n",
    "subset = df[(df[\"Year1_Sales\"] >= cutoff - 10) & (df[\"Year1_Sales\"] <= cutoff + 10)].copy()\n",
    "\n",
    "print(\"Part-Time Share by Training Status: Workers Near Cutoff:\")\n",
    "print(subset.groupby(\"Training\")['Part_Time'].agg('mean'))\n",
    "\n",
    "\n",
    "# In this case, no t-test is performed because the means are exactly the same so impossible to reject a null of no difference. "
   ]
  },
  {
   "cell_type": "code",
   "execution_count": 14,
   "metadata": {},
   "outputs": [
    {
     "name": "stdout",
     "output_type": "stream",
     "text": [
      "\n",
      "Placebo RD Model Summary:\n",
      "                            OLS Regression Results                            \n",
      "==============================================================================\n",
      "Dep. Variable:            Year2_Sales   R-squared:                       0.365\n",
      "Model:                            OLS   Adj. R-squared:                  0.363\n",
      "Method:                 Least Squares   F-statistic:                     189.7\n",
      "Date:                Wed, 02 Jul 2025   Prob (F-statistic):           8.02e-66\n",
      "Time:                        13:24:06   Log-Likelihood:                -2196.9\n",
      "No. Observations:                 664   AIC:                             4400.\n",
      "Df Residuals:                     661   BIC:                             4413.\n",
      "Df Model:                           2                                         \n",
      "Covariance Type:            nonrobust                                         \n",
      "===============================================================================\n",
      "                  coef    std err          t      P>|t|      [0.025      0.975]\n",
      "-------------------------------------------------------------------------------\n",
      "Intercept       2.5456      2.322      1.096      0.273      -2.014       7.106\n",
      "Training        0.3767      0.977      0.386      0.700      -1.541       2.294\n",
      "Year1_Sales     0.9045      0.091      9.935      0.000       0.726       1.083\n",
      "==============================================================================\n",
      "Omnibus:                        1.937   Durbin-Watson:                   2.008\n",
      "Prob(Omnibus):                  0.380   Jarque-Bera (JB):                1.755\n",
      "Skew:                           0.102   Prob(JB):                        0.416\n",
      "Kurtosis:                       3.148   Cond. No.                         288.\n",
      "==============================================================================\n",
      "\n",
      "Notes:\n",
      "[1] Standard Errors assume that the covariance matrix of the errors is correctly specified.\n"
     ]
    }
   ],
   "source": [
    "# Run a placebo RD model completely below the true cutoff\n",
    "placebo_df = df[df[\"Year1_Sales\"] < cutoff].copy()\n",
    "placebo_cutoff = 30 # Set a new cutoff for the placebo test\n",
    "placebo_df['Training'] = (placebo_df['Year1_Sales'] >= placebo_cutoff).astype(int)\n",
    "\n",
    "# New subset for analysis around the placebo cutoff\n",
    "placebo_subset = placebo_df[(placebo_df[\"Year1_Sales\"] >= placebo_cutoff - 10) & (placebo_df[\"Year1_Sales\"] <= placebo_cutoff + 10)].copy()\n",
    "\n",
    "# Run the placebo RD model\n",
    "placebo_model = smf.ols(\"Year2_Sales ~ Training + Year1_Sales\", data=placebo_subset).fit()\n",
    "print(\"\\nPlacebo RD Model Summary:\")\n",
    "print(placebo_model.summary())"
   ]
  }
 ],
 "metadata": {
  "kernelspec": {
   "display_name": "venv",
   "language": "python",
   "name": "python3"
  },
  "language_info": {
   "codemirror_mode": {
    "name": "ipython",
    "version": 3
   },
   "file_extension": ".py",
   "mimetype": "text/x-python",
   "name": "python",
   "nbconvert_exporter": "python",
   "pygments_lexer": "ipython3",
   "version": "3.9.6"
  }
 },
 "nbformat": 4,
 "nbformat_minor": 2
}
