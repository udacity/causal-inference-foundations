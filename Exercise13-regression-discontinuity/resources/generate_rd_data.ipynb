{
 "cells": [
  {
   "cell_type": "code",
   "execution_count": 2,
   "metadata": {},
   "outputs": [],
   "source": [
    "import numpy as np\n",
    "import pandas as pd\n"
   ]
  },
  {
   "cell_type": "code",
   "execution_count": 3,
   "metadata": {},
   "outputs": [],
   "source": [
    "\n",
    "# Set random seed\n",
    "np.random.seed(42)\n",
    "\n",
    "# Number of employees\n",
    "n = 1000\n",
    "\n",
    "# Step 1: Generate latent skill (drives both Year 1 and Year 2 outcomes)\n",
    "skill = np.random.normal(loc=60, scale=20, size=n)\n",
    "skill = np.clip(skill, 0, 100)  # Ensure skill is between 0 and 100\n",
    "\n",
    "# Step 2: Generate Year 1 sales\n",
    "year1_sales = 0.5*skill + np.random.normal(0, 5, n)\n",
    "year1_sales = np.clip(year1_sales, 0, 50)\n",
    "\n",
    "\n",
    "# Step 2.5: Determine part-time status\n",
    "part_time = np.where(\n",
    "    year1_sales < 30,\n",
    "    np.random.choice([0, 1], size=n, p=[0.5, 0.5]),\n",
    "    0\n",
    ")\n",
    "\n",
    "# Step 3: Determine who gets training (treatment assignment)\n",
    "cutoff = 40\n",
    "treatment = (year1_sales >= cutoff).astype(int)\n",
    "\n",
    "# Step 4: Generate Year 2 revenue\n",
    "# Revenue is a function of skill, luck, and a treatment bump (e.g., +10 units)\n",
    "treatment_effect = 20\n",
    "year2_sales = (\n",
    "    0.5 * skill                      # Skill-driven component\n",
    "    + treatment * treatment_effect\n",
    "    + np.random.normal(0, 5, n)   # Random noise\n",
    ")\n",
    "\n",
    "# However: If year 1 sales are below the probabation cutoff, then year 2 sales drop to half of what they would be  \n",
    "probation_cutoff = 20\n",
    "year2_sales = np.where(year1_sales < probation_cutoff, 0.5*year2_sales, year2_sales)\n",
    "\n",
    "# Create DataFrame\n",
    "df = pd.DataFrame({\n",
    "    \"EmployeeID\": np.arange(1, n+1),\n",
    "    \"Skill\": skill,\n",
    "    \"Year1_Sales\": year1_sales,\n",
    "    \"Training\": treatment,\n",
    "    \"Year2_Sales\": year2_sales,\n",
    "    \"Part_Time\": part_time\n",
    "})\n",
    "\n",
    "\n",
    "# Save the DataFrame to a CSV file\n",
    "df.to_csv(\"../data/rd_employee_sales_data.csv\", index=False)"
   ]
  }
 ],
 "metadata": {
  "kernelspec": {
   "display_name": "venv",
   "language": "python",
   "name": "python3"
  },
  "language_info": {
   "codemirror_mode": {
    "name": "ipython",
    "version": 3
   },
   "file_extension": ".py",
   "mimetype": "text/x-python",
   "name": "python",
   "nbconvert_exporter": "python",
   "pygments_lexer": "ipython3",
   "version": "3.9.6"
  }
 },
 "nbformat": 4,
 "nbformat_minor": 2
}
