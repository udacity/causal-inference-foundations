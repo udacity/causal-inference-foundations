{
 "cells": [
  {
   "cell_type": "markdown",
   "metadata": {},
   "source": [
    "#### Exercise 1 - Starter - Correlation v Causation"
   ]
  },
  {
   "cell_type": "code",
   "execution_count": null,
   "metadata": {},
   "outputs": [],
   "source": [
    "import numpy as np\n",
    "import pandas as pd\n",
    "import matplotlib.pyplot as plt\n",
    "import seaborn as sns\n",
    "from scipy import stats\n",
    "import statsmodels.formula.api as smf\n"
   ]
  },
  {
   "cell_type": "code",
   "execution_count": null,
   "metadata": {},
   "outputs": [],
   "source": [
    "\n",
    "# Set random seed for reproducibility\n",
    "np.random.seed(42)\n",
    "\n",
    "# Number of users\n",
    "n_users = 2000\n",
    "\n",
    "# 1. Affinity score (1 to 100): How much does the customer inherently like the product or platform?\n",
    "affinity = np.random.uniform(1, 100, size=n_users)\n",
    "\n",
    "# Original sigmoid function\n",
    "def sigmoid(x):\n",
    "    return 1 / (1 + np.exp(-0.1 * (x - 50)))\n",
    "\n",
    "loyalty_signup_probability = sigmoid(affinity)\n",
    "\n",
    "# 3. Sign-up assignment (1 = signed up, 0 = did not)\n",
    "loyalty_signup = np.random.binomial(1, loyalty_signup_probability)\n"
   ]
  },
  {
   "cell_type": "code",
   "execution_count": null,
   "metadata": {},
   "outputs": [],
   "source": [
    "\n",
    "# TO-DO: plot signup rate probability against affinity scores  \n",
    "\n",
    "\n",
    "# TO-DO: Plot the distribution of signup rates against affinity scores \n",
    "\n"
   ]
  },
  {
   "cell_type": "code",
   "execution_count": null,
   "metadata": {},
   "outputs": [],
   "source": [
    "\n",
    "# Generate Customer Revenue as linear function of affinity and signup status \n",
    "# Base revenue + boost for affinity + any boost for status + random noise\n",
    "\n",
    "impact_affinity = 2 # incremental revenue per affinity point \n",
    "impact_loyalty_signup = 0 # no additional revenue boost for loyalty signup in this case\n",
    "monthly_revenue = 20 + impact_affinity * affinity + impact_loyalty_signup * loyalty_signup + np.random.normal(0, 5, size=n_users)\n",
    "\n",
    "\n",
    "# TO-DO: Build DataFrame using affinity, loyalty_signup, and monthly_revenue. View data summary using describe()\n"
   ]
  },
  {
   "cell_type": "code",
   "execution_count": null,
   "metadata": {},
   "outputs": [],
   "source": [
    "# TO-DO: Describe mean and standard deviation of revenue and affinity by loyalty signup status\n"
   ]
  },
  {
   "cell_type": "code",
   "execution_count": null,
   "metadata": {},
   "outputs": [],
   "source": [
    "# TO-DO: Calculate and print the revenue gap (difference in average revenue) by signup status \n",
    "\n",
    "# TO-DO: t-test for the difference in monthly revenue using scipy.stats.ttest_ind \n"
   ]
  },
  {
   "cell_type": "code",
   "execution_count": null,
   "metadata": {},
   "outputs": [],
   "source": [
    "# TO-DO: Estimate linear Regression of revenue on affinity and loyalty status using statsmodels.formula.api.ols \n",
    "\n",
    "formula = \n",
    "model = smf.ols(formula = , data=).fit()\n",
    "print(model.summary())\n"
   ]
  },
  {
   "cell_type": "code",
   "execution_count": null,
   "metadata": {},
   "outputs": [],
   "source": [
    "# But we don't observe affinity directly, we only observe signup status.\n",
    "# TO-DO Regression of revenue on signup status without affinity as a control \n",
    "formula = \n",
    "model = smf.ols(formula = , data=).fit()\n",
    "print(model.summary())"
   ]
  }
 ],
 "metadata": {
  "kernelspec": {
   "display_name": "venv",
   "language": "python",
   "name": "python3"
  },
  "language_info": {
   "codemirror_mode": {
    "name": "ipython",
    "version": 3
   },
   "file_extension": ".py",
   "mimetype": "text/x-python",
   "name": "python",
   "nbconvert_exporter": "python",
   "pygments_lexer": "ipython3",
   "version": "3.9.6"
  }
 },
 "nbformat": 4,
 "nbformat_minor": 2
}
