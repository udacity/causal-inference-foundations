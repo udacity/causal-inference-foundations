{
 "cells": [
  {
   "cell_type": "markdown",
   "metadata": {},
   "source": [
    "#### Exercise 5 - Starter - Validate Difference-in-Differences Assumptions"
   ]
  },
  {
   "cell_type": "markdown",
   "metadata": {},
   "source": [
    "Your company sells dog toys and cat toys (possibly among other items). Your company hired a professional photographer who overhauled the product photos for dog toys. Starting on Oct 1 2024, all customers reaching the website and observing the dog toy products observed the new photos. \n",
    "\n",
    "Three months later, you are tasked to evaluate the impact of the professional photos on revenue to determine if it is worth making the investment for additional products. \n",
    "\n",
    "We have generated time series panel data for monthly revenue from dog toys and cat toys throughout 2023 and 2024. Revenue is driven by a baseline (separate for each product), seasonality, a general holiday season bump, a 'ground truth' effect for the professional photos, and random noise. \n",
    "\n",
    "The benefit of generating data this way is that we know what the true effect is and we can test how well the model performs under various circumstances."
   ]
  },
  {
   "cell_type": "code",
   "execution_count": null,
   "metadata": {},
   "outputs": [],
   "source": [
    "import pandas as pd\n",
    "import numpy as np\n",
    "import statsmodels.formula.api as smf \n",
    "import seaborn as sns\n",
    "import matplotlib.pyplot as plt"
   ]
  },
  {
   "cell_type": "code",
   "execution_count": null,
   "metadata": {},
   "outputs": [],
   "source": [
    "# Set random seed for reproducibility\n",
    "np.random.seed(42)\n",
    "\n",
    "# Parameters\n",
    "n_months = 24\n",
    "products = [\"Dog Toys\", \"Cat Toys\"]\n",
    "months = pd.date_range(start=\"2023-01-01\", periods=n_months, freq='MS')\n",
    "\n",
    "# Marketing event date\n",
    "event_date = pd.to_datetime('2024-10-01')\n",
    "model_start_date = '2024-01-01'\n",
    "model_end_date = '2025-01-01' \n",
    "\n",
    "\n",
    "# Create base dataframe\n",
    "df = pd.DataFrame([(month, product) for month in months for product in products],\n",
    "                  columns=[\"Month\", \"Product\"])\n",
    "\n",
    "# Add month number for seasonality\n",
    "df[\"Month_Num\"] = df[\"Month\"].dt.month\n",
    "\n",
    "# Seasonality: smooth wave + December holiday bump\n",
    "df[\"Seasonality\"] = 500 * np.sin((df[\"Month_Num\"] - 1) / 12 * 2 * np.pi)\n",
    "df[\"HolidayBump\"] = np.where(df[\"Month_Num\"] >= 11, 1000, 0)\n",
    "\n",
    "# Add randomness and slight product-level difference\n",
    "df[\"BaseRevenue\"] = 10000\n",
    "df[\"ProductGapBaseline\"] = df[\"Product\"].map({\"Dog Toys\": 200, \"Cat Toys\": 0})\n",
    "df[\"Noise\"] = np.random.normal(0, 50, size=len(df))\n",
    "\n",
    "\n",
    "#%%%%%%%%%%%%%%%%%%%%%%%%%%%%%%%%%%%%%%%%%%%%%%%%%%%%%%%%%%%%%%%%%%%%%%%%\n",
    "#%%%%%  This is the ground-truth effect of the treatment: \n",
    "#%%%%%  an extra $1000 monthly revenue for dog toys in Q4 2024 \n",
    "#%%%%%%%%%%%%%%%%%%%%%%%%%%%%%%%%%%%%%%%%%%%%%%%%%%%%%%%%%%%%%%%%%%%%%%%%\n",
    "\n",
    "df['BetterPhotos'] = np.where((df['Product']=='Dog Toys') & (df['Month'] >= event_date), 1000, 0)\n",
    "\n",
    "# Final revenue\n",
    "df[\"Revenue\"] = (\n",
    "    df[\"BaseRevenue\"]\n",
    "    + df[\"ProductGapBaseline\"]\n",
    "    + df[\"Seasonality\"]\n",
    "    + df[\"HolidayBump\"]\n",
    "    + df[\"BetterPhotos\"]\n",
    "    + df[\"Noise\"]\n",
    ")\n",
    "\n",
    "# Visualize the time series\n",
    "plt.figure(figsize=(10, 6))\n",
    "sns.lineplot(data=df, x=\"Month\", y=\"Revenue\", hue=\"Product\", marker=\"o\")\n",
    "plt.title(\"Monthly Revenue for Dog Toys and Cat Toys\")\n",
    "plt.ylabel(\"Revenue ($)\")\n",
    "plt.tight_layout()\n",
    "plt.show()\n",
    "\n",
    "# Final output DataFrame\n",
    "df = df[[\"Month\", \"Product\", \"Revenue\"]]"
   ]
  },
  {
   "cell_type": "markdown",
   "metadata": {},
   "source": [
    "#### Test the parallel trends assumption"
   ]
  },
  {
   "cell_type": "markdown",
   "metadata": {},
   "source": [
    "One of the critical assumptions of the difference-in-differences model is that the treatment and comparison group will trend together before and throughout the experiment and measurement window. While we cannot observe this directly, we can at least check whether the two time series trended together over a period leading up to the treatment. \n",
    "\n",
    "Specifically, check if there is a statistically significant difference in the trends prior to the event date."
   ]
  },
  {
   "cell_type": "code",
   "execution_count": null,
   "metadata": {},
   "outputs": [],
   "source": [
    "# TO-DO: Test whether the interaction of trend and treated is statistically significant\n",
    "\n",
    "subset = \n",
    "\n",
    "subset['trend'] = \n",
    "subset['treated'] = \n",
    "subset['treated_trend'] = \n",
    "\n",
    "formula = \n",
    "model = smf.ols(formula, data=subset).fit()\n",
    "print(model.summary())"
   ]
  },
  {
   "cell_type": "code",
   "execution_count": null,
   "metadata": {},
   "outputs": [],
   "source": [
    "# TO-DO: What is the estimated difference in trends? Is it statistically significant? \n",
    "print(f\"Estimated Difference in Trends: {}\")\n",
    "print(f\"P-value: {}\")"
   ]
  }
 ],
 "metadata": {
  "kernelspec": {
   "display_name": "venv",
   "language": "python",
   "name": "python3"
  },
  "language_info": {
   "codemirror_mode": {
    "name": "ipython",
    "version": 3
   },
   "file_extension": ".py",
   "mimetype": "text/x-python",
   "name": "python",
   "nbconvert_exporter": "python",
   "pygments_lexer": "ipython3",
   "version": "3.9.6"
  }
 },
 "nbformat": 4,
 "nbformat_minor": 2
}
