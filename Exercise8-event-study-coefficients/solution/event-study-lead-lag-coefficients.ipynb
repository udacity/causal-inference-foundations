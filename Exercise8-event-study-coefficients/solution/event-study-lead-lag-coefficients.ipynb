{
 "cells": [
  {
   "cell_type": "markdown",
   "id": "97dfa8e6",
   "metadata": {},
   "source": [
    "In Aug 2024, Starbucks announced a CEO change without any other materially confounding information (e.g. it wasn't along an earnings report). Events like these are something companies and investors are regularly interested in quantifying impact -- but naturally don't want to design an experiment randomly giving users bad experiences\n",
    "\n",
    "Examples of how this might transfer: Suppose there is an outage that affects a certain region or population of users (iOs but not Android, NYC but not San Francisco or LA, purchasers of product X but not Y, etc.). If you have a time series of performance by these groups, you may consider these models to estimate the impact."
   ]
  },
  {
   "cell_type": "code",
   "execution_count": 26,
   "id": "6dde8f13",
   "metadata": {},
   "outputs": [],
   "source": [
    "import pandas as pd\n",
    "import numpy as np\n",
    "import matplotlib.pyplot as plt\n",
    "import datetime\n",
    "import statsmodels.formula.api as smf"
   ]
  },
  {
   "cell_type": "code",
   "execution_count": 27,
   "id": "6508ea87",
   "metadata": {},
   "outputs": [],
   "source": [
    "def run_diff_in_diff(df, event_date, treated):\n",
    "    start_date = event_date - datetime.timedelta(days=180)\n",
    "    df = df[(df['date'] >= start_date) & (df['date'] <= event_date) & (df['returns'].isnull()==0)].copy()\n",
    "    df['treated'] = np.where(df['ticker']==treated, 1, 0)\n",
    "    df['post'] = np.where(df['date']>=event_date, 1, 0)\n",
    "    df['treated_post'] = df['treated'] * df['post']\n",
    "\n",
    "    formula = \"returns ~ treated + post + treated_post\"\n",
    "    model = smf.ols(formula=formula, data=df).fit()\n",
    "    return model\n",
    "\n",
    "\n",
    "def difference_in_trends(df, event_date, treated):\n",
    "    start_date = event_date - datetime.timedelta(days=180)\n",
    "    df = df[(df['date'] >= start_date) & (df['date'] <= event_date)].copy()\n",
    "    df['treated'] = np.where(df['ticker']==treated, 1, 0)\n",
    "    df['trend'] = (event_date - df['date']).dt.days\n",
    "    df['treated_trend'] = df['treated']*df['trend']\n",
    "    formula = \"returns ~ treated + trend + treated_trend\"\n",
    "    model = smf.ols(formula=formula, data=df).fit()\n",
    "    return model\n",
    "\n",
    "\n",
    "def plot_histogram(df, model, param, mytitle):\n",
    "    quantile_2_5 = df['betas'].quantile(0.025)\n",
    "    quantile_97_5 = df['betas'].quantile(0.975)\n",
    "    model_est = model.params[param]\n",
    "\n",
    "    plt.hist(df['betas'], bins=10, alpha=0.7)\n",
    "    plt.axvline(quantile_2_5, color='black', linestyle='--', linewidth=1, label='2.5th pctl')\n",
    "    plt.axvline(quantile_97_5, color='black', linestyle='--', linewidth=1, label='97.5th pctl')\n",
    "    plt.axvline(model_est, color='red', linestyle='--', linewidth=1, label='Event Impact')\n",
    "    plt.legend(loc='upper left')\n",
    "    plt.title(mytitle)\n",
    "    plt.show()\n",
    "    \n",
    "    \n",
    "def get_event_study_placebos(df_wide, pre_event_dates, cutoff_days, formula):\n",
    "    pvalues = list()\n",
    "    betas = list()\n",
    "    \n",
    "    for placebo_date in pre_event_dates:\n",
    "        cutoff = pd.to_datetime(placebo_date) - datetime.timedelta(days=cutoff_days)\n",
    "        placebo_df = df_wide[(df_wide['date'] >= cutoff) & (df_wide['date'] <= placebo_date)].copy()\n",
    "        placebo_df['event'] = np.where(placebo_df['date']==placebo_date,1,0)\n",
    "        placebo_model=smf.ols(formula=formula, data=placebo_df).fit()\n",
    "        pvalues.append(placebo_model.pvalues['event'])\n",
    "        betas.append(placebo_model.params['event'])\n",
    "\n",
    "    placebo_estimates = pd.DataFrame({'betas':betas, 'pvalues':pvalues})\n",
    "    rmse = np.sqrt((placebo_estimates['betas']**2).mean())\n",
    "\n",
    "    return(placebo_estimates,rmse)\n"
   ]
  },
  {
   "cell_type": "code",
   "execution_count": 40,
   "id": "0b46e56e",
   "metadata": {},
   "outputs": [
    {
     "name": "stdout",
     "output_type": "stream",
     "text": [
      "min    2024-01-03\n",
      "max    2024-08-30\n",
      "Name: date, dtype: object\n"
     ]
    },
    {
     "data": {
      "text/html": [
       "<div>\n",
       "<style scoped>\n",
       "    .dataframe tbody tr th:only-of-type {\n",
       "        vertical-align: middle;\n",
       "    }\n",
       "\n",
       "    .dataframe tbody tr th {\n",
       "        vertical-align: top;\n",
       "    }\n",
       "\n",
       "    .dataframe thead th {\n",
       "        text-align: right;\n",
       "    }\n",
       "</style>\n",
       "<table border=\"1\" class=\"dataframe\">\n",
       "  <thead>\n",
       "    <tr style=\"text-align: right;\">\n",
       "      <th></th>\n",
       "      <th>date</th>\n",
       "      <th>open</th>\n",
       "      <th>high</th>\n",
       "      <th>low</th>\n",
       "      <th>close</th>\n",
       "      <th>adjclose</th>\n",
       "      <th>volume</th>\n",
       "      <th>ticker</th>\n",
       "      <th>returns</th>\n",
       "    </tr>\n",
       "  </thead>\n",
       "  <tbody>\n",
       "    <tr>\n",
       "      <th>1</th>\n",
       "      <td>2024-01-03</td>\n",
       "      <td>93.959999</td>\n",
       "      <td>94.239998</td>\n",
       "      <td>93.059998</td>\n",
       "      <td>93.230003</td>\n",
       "      <td>89.737877</td>\n",
       "      <td>7161700</td>\n",
       "      <td>SBUX</td>\n",
       "      <td>-0.004697</td>\n",
       "    </tr>\n",
       "    <tr>\n",
       "      <th>2</th>\n",
       "      <td>2024-01-04</td>\n",
       "      <td>93.099998</td>\n",
       "      <td>94.580002</td>\n",
       "      <td>93.000000</td>\n",
       "      <td>93.550003</td>\n",
       "      <td>90.045891</td>\n",
       "      <td>7118600</td>\n",
       "      <td>SBUX</td>\n",
       "      <td>0.003432</td>\n",
       "    </tr>\n",
       "    <tr>\n",
       "      <th>3</th>\n",
       "      <td>2024-01-05</td>\n",
       "      <td>93.330002</td>\n",
       "      <td>93.580002</td>\n",
       "      <td>92.480003</td>\n",
       "      <td>92.989998</td>\n",
       "      <td>89.506859</td>\n",
       "      <td>7189900</td>\n",
       "      <td>SBUX</td>\n",
       "      <td>-0.005986</td>\n",
       "    </tr>\n",
       "    <tr>\n",
       "      <th>4</th>\n",
       "      <td>2024-01-08</td>\n",
       "      <td>93.019997</td>\n",
       "      <td>94.570000</td>\n",
       "      <td>92.949997</td>\n",
       "      <td>94.190002</td>\n",
       "      <td>90.661919</td>\n",
       "      <td>7536900</td>\n",
       "      <td>SBUX</td>\n",
       "      <td>0.012905</td>\n",
       "    </tr>\n",
       "    <tr>\n",
       "      <th>5</th>\n",
       "      <td>2024-01-09</td>\n",
       "      <td>93.610001</td>\n",
       "      <td>93.730003</td>\n",
       "      <td>92.860001</td>\n",
       "      <td>93.089996</td>\n",
       "      <td>89.603111</td>\n",
       "      <td>6348500</td>\n",
       "      <td>SBUX</td>\n",
       "      <td>-0.011679</td>\n",
       "    </tr>\n",
       "  </tbody>\n",
       "</table>\n",
       "</div>"
      ],
      "text/plain": [
       "         date       open       high        low      close   adjclose   volume  \\\n",
       "1  2024-01-03  93.959999  94.239998  93.059998  93.230003  89.737877  7161700   \n",
       "2  2024-01-04  93.099998  94.580002  93.000000  93.550003  90.045891  7118600   \n",
       "3  2024-01-05  93.330002  93.580002  92.480003  92.989998  89.506859  7189900   \n",
       "4  2024-01-08  93.019997  94.570000  92.949997  94.190002  90.661919  7536900   \n",
       "5  2024-01-09  93.610001  93.730003  92.860001  93.089996  89.603111  6348500   \n",
       "\n",
       "  ticker   returns  \n",
       "1   SBUX -0.004697  \n",
       "2   SBUX  0.003432  \n",
       "3   SBUX -0.005986  \n",
       "4   SBUX  0.012905  \n",
       "5   SBUX -0.011679  "
      ]
     },
     "execution_count": 40,
     "metadata": {},
     "output_type": "execute_result"
    }
   ],
   "source": [
    "event_date = '2024-08-13'\n",
    "prices = pd.read_csv('sbux_ceo_prices.csv')\n",
    "prices = prices[prices['returns'].isnull()==0].copy()\n",
    "print(prices['date'].agg(['min','max']))\n",
    "prices.head()"
   ]
  },
  {
   "cell_type": "code",
   "execution_count": 29,
   "id": "19bf28a4",
   "metadata": {},
   "outputs": [
    {
     "data": {
      "text/html": [
       "<div>\n",
       "<style scoped>\n",
       "    .dataframe tbody tr th:only-of-type {\n",
       "        vertical-align: middle;\n",
       "    }\n",
       "\n",
       "    .dataframe tbody tr th {\n",
       "        vertical-align: top;\n",
       "    }\n",
       "\n",
       "    .dataframe thead th {\n",
       "        text-align: right;\n",
       "    }\n",
       "</style>\n",
       "<table border=\"1\" class=\"dataframe\">\n",
       "  <thead>\n",
       "    <tr style=\"text-align: right;\">\n",
       "      <th></th>\n",
       "      <th>count</th>\n",
       "      <th>mean</th>\n",
       "      <th>std</th>\n",
       "    </tr>\n",
       "    <tr>\n",
       "      <th>ticker</th>\n",
       "      <th></th>\n",
       "      <th></th>\n",
       "      <th></th>\n",
       "    </tr>\n",
       "  </thead>\n",
       "  <tbody>\n",
       "    <tr>\n",
       "      <th>MCD</th>\n",
       "      <td>153</td>\n",
       "      <td>-0.000568</td>\n",
       "      <td>0.011725</td>\n",
       "    </tr>\n",
       "    <tr>\n",
       "      <th>QSR</th>\n",
       "      <td>153</td>\n",
       "      <td>-0.000522</td>\n",
       "      <td>0.014667</td>\n",
       "    </tr>\n",
       "    <tr>\n",
       "      <th>SBUX</th>\n",
       "      <td>153</td>\n",
       "      <td>-0.001079</td>\n",
       "      <td>0.019548</td>\n",
       "    </tr>\n",
       "    <tr>\n",
       "      <th>VOO</th>\n",
       "      <td>153</td>\n",
       "      <td>0.000826</td>\n",
       "      <td>0.007927</td>\n",
       "    </tr>\n",
       "    <tr>\n",
       "      <th>YUM</th>\n",
       "      <td>153</td>\n",
       "      <td>0.000379</td>\n",
       "      <td>0.010292</td>\n",
       "    </tr>\n",
       "  </tbody>\n",
       "</table>\n",
       "</div>"
      ],
      "text/plain": [
       "        count      mean       std\n",
       "ticker                           \n",
       "MCD       153 -0.000568  0.011725\n",
       "QSR       153 -0.000522  0.014667\n",
       "SBUX      153 -0.001079  0.019548\n",
       "VOO       153  0.000826  0.007927\n",
       "YUM       153  0.000379  0.010292"
      ]
     },
     "execution_count": 29,
     "metadata": {},
     "output_type": "execute_result"
    }
   ],
   "source": [
    "# Mean/SD returns for each of the tickers\n",
    "prices[prices['date']<event_date].groupby(['ticker'])['returns'].agg(['count','mean','std'])\n"
   ]
  },
  {
   "cell_type": "markdown",
   "id": "e46d6efc",
   "metadata": {},
   "source": [
    "### Estimate event study model"
   ]
  },
  {
   "cell_type": "code",
   "execution_count": 30,
   "id": "c43df1dd",
   "metadata": {},
   "outputs": [],
   "source": [
    "df_wide = prices.pivot(index='date', columns='ticker', values='returns')\n",
    "df_wide.reset_index(inplace=True)\n",
    "df_wide.columns.name = None\n",
    "df_wide['date'] = pd.to_datetime(df_wide['date'])\n",
    "df_wide.head()\n",
    "df_wide.drop(columns=['QSR'], inplace=True)"
   ]
  },
  {
   "cell_type": "code",
   "execution_count": 31,
   "id": "3304e194",
   "metadata": {},
   "outputs": [
    {
     "name": "stdout",
     "output_type": "stream",
     "text": [
      "                            OLS Regression Results                            \n",
      "==============================================================================\n",
      "Dep. Variable:                   SBUX   R-squared:                       0.651\n",
      "Model:                            OLS   Adj. R-squared:                  0.634\n",
      "Method:                 Least Squares   F-statistic:                     36.91\n",
      "Date:                Mon, 16 Jun 2025   Prob (F-statistic):           2.23e-17\n",
      "Time:                        23:10:02   Log-Likelihood:                 203.84\n",
      "No. Observations:                  84   AIC:                            -397.7\n",
      "Df Residuals:                      79   BIC:                            -385.5\n",
      "Df Model:                           4                                         \n",
      "Covariance Type:            nonrobust                                         \n",
      "==============================================================================\n",
      "                 coef    std err          t      P>|t|      [0.025      0.975]\n",
      "------------------------------------------------------------------------------\n",
      "Intercept     -0.0007      0.002     -0.295      0.769      -0.006       0.004\n",
      "MCD           -0.1107      0.226     -0.490      0.625      -0.560       0.339\n",
      "VOO            0.0465      0.295      0.158      0.875      -0.541       0.634\n",
      "YUM            1.1301      0.263      4.295      0.000       0.606       1.654\n",
      "event          0.2289      0.023     10.058      0.000       0.184       0.274\n",
      "==============================================================================\n",
      "Omnibus:                       38.995   Durbin-Watson:                   2.507\n",
      "Prob(Omnibus):                  0.000   Jarque-Bera (JB):              299.584\n",
      "Skew:                          -1.066   Prob(JB):                     8.83e-66\n",
      "Kurtosis:                      12.003   Cond. No.                         137.\n",
      "==============================================================================\n",
      "\n",
      "Notes:\n",
      "[1] Standard Errors assume that the covariance matrix of the errors is correctly specified.\n"
     ]
    }
   ],
   "source": [
    "preperiod_days = 120\n",
    "postperiod_days = 1\n",
    "\n",
    "event_date = pd.to_datetime(event_date)\n",
    "model_start_date = event_date - datetime.timedelta(days=preperiod_days)\n",
    "model_end_date = event_date + datetime.timedelta(days=postperiod_days)\n",
    "\n",
    "df = df_wide[(df_wide['date'] >= model_start_date) & (df_wide['date'] < model_end_date)].copy()\n",
    "df['event'] = np.where(df['date']==event_date,1,0)\n",
    "\n",
    "\n",
    "formula = 'SBUX~MCD+VOO+YUM+event'\n",
    "model = smf.ols(formula=formula, data=df).fit()\n",
    "print(model.summary())\n"
   ]
  },
  {
   "cell_type": "code",
   "execution_count": 32,
   "id": "6c75c695",
   "metadata": {},
   "outputs": [
    {
     "name": "stdout",
     "output_type": "stream",
     "text": [
      "Last Market Value: $87,259,582,617\n",
      "Estimated Gain: $19,976,389,929\n"
     ]
    }
   ],
   "source": [
    "# Obtain the baseline market value using known value of total shares and price just prior to the event date\n",
    "total_shares = 1132800000\n",
    "\n",
    "prices['date'] = pd.to_datetime(prices['date'])\n",
    "pre = prices[prices['date']<event_date].copy()\n",
    "lastprice = pre.loc[(pre['date']==max(pre['date'])) & (pre['ticker']=='SBUX'),'close'].values[0]\n",
    "lastmarketvalue = lastprice * total_shares\n",
    "\n",
    "print(\"Last Market Value: ${:,}\".format(round(lastmarketvalue)))\n",
    "print(\"Estimated Gain: ${:,}\".format(round(lastmarketvalue*model.params['event'])))"
   ]
  },
  {
   "cell_type": "code",
   "execution_count": 33,
   "id": "7dbf2d23",
   "metadata": {},
   "outputs": [
    {
     "name": "stdout",
     "output_type": "stream",
     "text": [
      "Mean Placebo Effect: 0.001\n",
      "RMSE: 0.026\n"
     ]
    },
    {
     "data": {
      "image/png": "[encoded data removed]",
      "text/plain": [
       "<Figure size 640x480 with 1 Axes>"
      ]
     },
     "metadata": {},
     "output_type": "display_data"
    }
   ],
   "source": [
    "placebo_start = event_date - datetime.timedelta(days=120)\n",
    "pre_event_dates = df_wide[(df_wide['date'] >= placebo_start) & (df_wide['date'] < event_date)]['date'].unique()\n",
    "mytitle = \"Event Study Placebo Distribution\"\n",
    "placebo_estimates, rmse = get_event_study_placebos(df_wide, pre_event_dates, preperiod_days, formula)\n",
    "\n",
    "print(f\"Mean Placebo Effect: {placebo_estimates.betas.mean():.3f}\")\n",
    "print(f\"RMSE: {rmse:.3f}\")\n",
    "plot_histogram(placebo_estimates, model,\"event\", mytitle)"
   ]
  },
  {
   "cell_type": "code",
   "execution_count": 46,
   "id": "51133a6a",
   "metadata": {},
   "outputs": [
    {
     "name": "stdout",
     "output_type": "stream",
     "text": [
      "                            OLS Regression Results                            \n",
      "==============================================================================\n",
      "Dep. Variable:                   SBUX   R-squared:                       0.666\n",
      "Model:                            OLS   Adj. R-squared:                  0.622\n",
      "Method:                 Least Squares   F-statistic:                     15.18\n",
      "Date:                Tue, 17 Jun 2025   Prob (F-statistic):           1.78e-14\n",
      "Time:                        22:32:10   Log-Likelihood:                 214.31\n",
      "No. Observations:                  87   AIC:                            -406.6\n",
      "Df Residuals:                      76   BIC:                            -379.5\n",
      "Df Model:                          10                                         \n",
      "Covariance Type:            nonrobust                                         \n",
      "==============================================================================\n",
      "                 coef    std err          t      P>|t|      [0.025      0.975]\n",
      "------------------------------------------------------------------------------\n",
      "Intercept     -0.0011      0.002     -0.439      0.662      -0.006       0.004\n",
      "MCD           -0.1621      0.229     -0.708      0.481      -0.618       0.294\n",
      "VOO            0.0303      0.310      0.098      0.922      -0.587       0.648\n",
      "YUM            1.1921      0.266      4.483      0.000       0.663       1.722\n",
      "pre3           0.0016      0.023      0.070      0.944      -0.045       0.048\n",
      "pre2          -0.0070      0.022     -0.314      0.754      -0.052       0.038\n",
      "pre1           0.0379      0.022      1.694      0.094      -0.007       0.083\n",
      "post0          0.2288      0.023     10.025      0.000       0.183       0.274\n",
      "post1         -0.0165      0.022     -0.742      0.460      -0.061       0.028\n",
      "post2          0.0084      0.023      0.368      0.714      -0.037       0.054\n",
      "post3          0.0060      0.022      0.265      0.791      -0.039       0.051\n",
      "==============================================================================\n",
      "Omnibus:                       40.040   Durbin-Watson:                   2.515\n",
      "Prob(Omnibus):                  0.000   Jarque-Bera (JB):              334.566\n",
      "Skew:                          -1.041   Prob(JB):                     2.24e-73\n",
      "Kurtosis:                      12.379   Cond. No.                         144.\n",
      "==============================================================================\n",
      "\n",
      "Notes:\n",
      "[1] Standard Errors assume that the covariance matrix of the errors is correctly specified.\n"
     ]
    }
   ],
   "source": [
    "preperiod_days = 120\n",
    "postperiod_days = 4\n",
    "\n",
    "event_date = pd.to_datetime(event_date)\n",
    "model_start_date = event_date - datetime.timedelta(days=preperiod_days)\n",
    "model_end_date = event_date + datetime.timedelta(days=postperiod_days)\n",
    "\n",
    "df = df_wide[(df_wide['date'] >= model_start_date) & (df_wide['date'] < model_end_date)].copy()\n",
    "df.sort_values(by='date', ascending=True, inplace=True)\n",
    "df['t'] = range(1, len(df) + 1)\n",
    "\n",
    "event_index = df.loc[df['date'] == event_date, 't'].values[0]\n",
    "\n",
    "df['pre1'] = df['t'].apply(lambda x: 1 if x == event_index-1 else 0)\n",
    "df['pre2'] = df['t'].apply(lambda x: 1 if x == event_index-2 else 0)\n",
    "df['pre3'] = df['t'].apply(lambda x: 1 if x == event_index-3 else 0)\n",
    "df['post0'] = df['t'].apply(lambda x: 1 if x == event_index else 0)\n",
    "df['post1'] = df['t'].apply(lambda x: 1 if x == event_index+1 else 0)\n",
    "df['post2'] = df['t'].apply(lambda x: 1 if x == event_index+2 else 0)\n",
    "df['post3'] = df['t'].apply(lambda x: 1 if x == event_index+3 else 0)\n",
    "\n",
    "formula = 'SBUX~MCD+VOO+YUM+pre3+pre2+pre1+post0+post1+post2+post3'\n",
    "model = smf.ols(formula=formula, data=df).fit()\n",
    "print(model.summary())\n"
   ]
  },
  {
   "cell_type": "code",
   "execution_count": null,
   "id": "6a89fdbe",
   "metadata": {},
   "outputs": [
    {
     "data": {
      "image/png": "[encoded data removed]",
      "text/plain": [
       "<Figure size 640x480 with 1 Axes>"
      ]
     },
     "metadata": {},
     "output_type": "display_data"
    }
   ],
   "source": [
    "# Extract coefficients for pre3, pre2, pre1, post0, post1, post2, and post3\n",
    "coefficients = ['pre3', 'pre2', 'pre1', 'post0', 'post1', 'post2', 'post3']\n",
    "x_values = range(-3, 4)  # x values from -3 to +3\n",
    "y_values = [model.params[coef] for coef in coefficients]\n",
    "\n",
    "# Add error bars using standard errors from model.bse\n",
    "y_errors = [model.bse[coef] for coef in coefficients]\n",
    "\n",
    "# Plot the coefficient estimates as a connected line graph\n",
    "plt.plot(x_values, y_values, marker='o', color='b', label='Coefficient Estimates')\n",
    "\n",
    "# Add error bars to the plot\n",
    "plt.errorbar(x_values, y_values, yerr=y_errors, fmt='o', color='b', capsize=5, label='95% Confidence Interval')\n",
    "plt.title('Event Study Coefficients')\n",
    "plt.xlabel('Time Relative to Event')\n",
    "plt.ylabel('Coefficient Estimate')\n",
    "plt.xticks(x_values)\n",
    "plt.legend()\n",
    "plt.grid(True)\n",
    "plt.show()"
   ]
  }
 ],
 "metadata": {
  "kernelspec": {
   "display_name": "venv",
   "language": "python",
   "name": "python3"
  },
  "language_info": {
   "codemirror_mode": {
    "name": "ipython",
    "version": 3
   },
   "file_extension": ".py",
   "mimetype": "text/x-python",
   "name": "python",
   "nbconvert_exporter": "python",
   "pygments_lexer": "ipython3",
   "version": "3.9.6"
  }
 },
 "nbformat": 4,
 "nbformat_minor": 5
}
