{
 "cells": [
  {
   "cell_type": "markdown",
   "id": "4a887e04",
   "metadata": {},
   "source": [
    "#### Exercise 9 - Solution - Event Study Staggered Rollout"
   ]
  },
  {
   "cell_type": "markdown",
   "id": "97dfa8e6",
   "metadata": {},
   "source": [
    "Use stock market data to estimate the impact of the ex-dividend data on stock prices. The ex-dividend date is the first trading date after the dividend record date. Whoever owns the stock on the record date receives the dividend, so purchasing a dividend-paying stock on the ex-dividend date means you've just missed the payout and now have to wait another quarter (typically) until the next payout.\n",
    "\n",
    "It's often assumed that if markets are efficient that the value of the company should drop on the ex-dividend date because the company is about to distribute cash that a new buyer would not receive, and that's the longest period for which a new buyer would have to wait for the dividend. Let's test this theory by evaluating the incremental price change (net of market performance) on ex-dividend dates for a select group of dividend-paying stocks. "
   ]
  },
  {
   "cell_type": "code",
   "execution_count": 2,
   "id": "6dde8f13",
   "metadata": {},
   "outputs": [],
   "source": [
    "import pandas as pd\n",
    "import numpy as np\n",
    "import matplotlib.pyplot as plt\n",
    "import statsmodels.formula.api as smf"
   ]
  },
  {
   "cell_type": "code",
   "execution_count": 3,
   "id": "bdf6d1b6",
   "metadata": {},
   "outputs": [],
   "source": [
    "ex_dividend_dates = {'XOM':'2025-05-15' ,\n",
    "                     'JNJ':'2025-05-27',\n",
    "                     'CVX':'2025-05-19',\n",
    "                     'PG':'2025-04-21',\n",
    "                     'PM':'2025-03-20'}\n",
    "\n",
    "targets = list(ex_dividend_dates.keys())\n",
    "\n"
   ]
  },
  {
   "cell_type": "code",
   "execution_count": 4,
   "id": "72caff9a",
   "metadata": {},
   "outputs": [
    {
     "data": {
      "text/html": [
       "<div>\n",
       "<style scoped>\n",
       "    .dataframe tbody tr th:only-of-type {\n",
       "        vertical-align: middle;\n",
       "    }\n",
       "\n",
       "    .dataframe tbody tr th {\n",
       "        vertical-align: top;\n",
       "    }\n",
       "\n",
       "    .dataframe thead th {\n",
       "        text-align: right;\n",
       "    }\n",
       "</style>\n",
       "<table border=\"1\" class=\"dataframe\">\n",
       "  <thead>\n",
       "    <tr style=\"text-align: right;\">\n",
       "      <th></th>\n",
       "      <th>target</th>\n",
       "      <th>VOO</th>\n",
       "      <th>VTI</th>\n",
       "      <th>QQQ</th>\n",
       "      <th>DVY</th>\n",
       "      <th>date</th>\n",
       "      <th>target_ticker</th>\n",
       "      <th>trend</th>\n",
       "    </tr>\n",
       "  </thead>\n",
       "  <tbody>\n",
       "    <tr>\n",
       "      <th>61</th>\n",
       "      <td>0.000922</td>\n",
       "      <td>0.004906</td>\n",
       "      <td>0.004077</td>\n",
       "      <td>0.001099</td>\n",
       "      <td>0.013386</td>\n",
       "      <td>2025-05-15</td>\n",
       "      <td>XOM</td>\n",
       "      <td>0</td>\n",
       "    </tr>\n",
       "    <tr>\n",
       "      <th>127</th>\n",
       "      <td>0.002027</td>\n",
       "      <td>0.020548</td>\n",
       "      <td>0.020558</td>\n",
       "      <td>0.023525</td>\n",
       "      <td>0.013889</td>\n",
       "      <td>2025-05-27</td>\n",
       "      <td>JNJ</td>\n",
       "      <td>0</td>\n",
       "    </tr>\n",
       "    <tr>\n",
       "      <th>194</th>\n",
       "      <td>-0.025405</td>\n",
       "      <td>0.001025</td>\n",
       "      <td>0.000786</td>\n",
       "      <td>0.000959</td>\n",
       "      <td>0.001196</td>\n",
       "      <td>2025-05-19</td>\n",
       "      <td>CVX</td>\n",
       "      <td>0</td>\n",
       "    </tr>\n",
       "    <tr>\n",
       "      <th>260</th>\n",
       "      <td>-0.028600</td>\n",
       "      <td>-0.023827</td>\n",
       "      <td>-0.023768</td>\n",
       "      <td>-0.024747</td>\n",
       "      <td>-0.017956</td>\n",
       "      <td>2025-04-21</td>\n",
       "      <td>PG</td>\n",
       "      <td>0</td>\n",
       "    </tr>\n",
       "    <tr>\n",
       "      <th>323</th>\n",
       "      <td>-0.011796</td>\n",
       "      <td>-0.002302</td>\n",
       "      <td>-0.002398</td>\n",
       "      <td>-0.003390</td>\n",
       "      <td>-0.002690</td>\n",
       "      <td>2025-03-20</td>\n",
       "      <td>PM</td>\n",
       "      <td>0</td>\n",
       "    </tr>\n",
       "  </tbody>\n",
       "</table>\n",
       "</div>"
      ],
      "text/plain": [
       "       target       VOO       VTI       QQQ       DVY       date  \\\n",
       "61   0.000922  0.004906  0.004077  0.001099  0.013386 2025-05-15   \n",
       "127  0.002027  0.020548  0.020558  0.023525  0.013889 2025-05-27   \n",
       "194 -0.025405  0.001025  0.000786  0.000959  0.001196 2025-05-19   \n",
       "260 -0.028600 -0.023827 -0.023768 -0.024747 -0.017956 2025-04-21   \n",
       "323 -0.011796 -0.002302 -0.002398 -0.003390 -0.002690 2025-03-20   \n",
       "\n",
       "    target_ticker  trend  \n",
       "61            XOM      0  \n",
       "127           JNJ      0  \n",
       "194           CVX      0  \n",
       "260            PG      0  \n",
       "323            PM      0  "
      ]
     },
     "execution_count": 4,
     "metadata": {},
     "output_type": "execute_result"
    }
   ],
   "source": [
    "rawdata = pd.read_csv('../data/staggered_rollout_dividends.csv', parse_dates=['date'])\n",
    "colnames = rawdata.columns.tolist()\n",
    "colnames.append('trend')\n",
    "\n",
    "tickers = rawdata['target_ticker'].unique()\n",
    "\n",
    "for ticker in tickers:\n",
    "    tmp = rawdata[rawdata['target_ticker']==ticker].copy()\n",
    "    tmp['t'] = range(1, len(tmp) + 1)\n",
    "\n",
    "    event_date = ex_dividend_dates[ticker]\n",
    "    event_index = tmp.loc[tmp['date'] == event_date, 't'].values[0]\n",
    "    tmp['trend'] = tmp['t'] - event_index\n",
    "    tmp.drop(columns=['t'], inplace=True)\n",
    "    if ticker == tickers[0]:\n",
    "        staggered_df = tmp\n",
    "    else:\n",
    "        staggered_df = pd.concat([staggered_df, tmp], axis=0)\n",
    "\n",
    "staggered_df[staggered_df['trend']==0]"
   ]
  },
  {
   "cell_type": "markdown",
   "id": "e46d6efc",
   "metadata": {},
   "source": [
    "### Estimate event study model"
   ]
  },
  {
   "cell_type": "code",
   "execution_count": 5,
   "id": "3304e194",
   "metadata": {},
   "outputs": [
    {
     "name": "stdout",
     "output_type": "stream",
     "text": [
      "                            OLS Regression Results                            \n",
      "==============================================================================\n",
      "Dep. Variable:                 target   R-squared:                       0.386\n",
      "Model:                            OLS   Adj. R-squared:                  0.376\n",
      "Method:                 Least Squares   F-statistic:                     37.39\n",
      "Date:                Wed, 13 Aug 2025   Prob (F-statistic):           1.10e-29\n",
      "Time:                        21:00:08   Log-Likelihood:                 845.62\n",
      "No. Observations:                 303   AIC:                            -1679.\n",
      "Df Residuals:                     297   BIC:                            -1657.\n",
      "Df Model:                           5                                         \n",
      "Covariance Type:            nonrobust                                         \n",
      "==============================================================================\n",
      "                 coef    std err          t      P>|t|      [0.025      0.975]\n",
      "------------------------------------------------------------------------------\n",
      "Intercept      0.0007      0.001      0.793      0.428      -0.001       0.002\n",
      "VOO            0.2798      0.845      0.331      0.741      -1.382       1.942\n",
      "VTI            0.0485      0.784      0.062      0.951      -1.494       1.591\n",
      "QQQ           -0.4573      0.349     -1.312      0.191      -1.143       0.229\n",
      "DVY            0.9719      0.212      4.576      0.000       0.554       1.390\n",
      "event         -0.0150      0.007     -2.220      0.027      -0.028      -0.002\n",
      "==============================================================================\n",
      "Omnibus:                       92.907   Durbin-Watson:                   2.092\n",
      "Prob(Omnibus):                  0.000   Jarque-Bera (JB):             1785.456\n",
      "Skew:                           0.696   Prob(JB):                         0.00\n",
      "Kurtosis:                      14.810   Cond. No.                     1.26e+03\n",
      "==============================================================================\n",
      "\n",
      "Notes:\n",
      "[1] Standard Errors assume that the covariance matrix of the errors is correctly specified.\n",
      "[2] The condition number is large, 1.26e+03. This might indicate that there are\n",
      "strong multicollinearity or other numerical problems.\n"
     ]
    }
   ],
   "source": [
    "subset = staggered_df[(staggered_df['trend'] >= -60) & (staggered_df['trend'] < 1)].copy()\n",
    "subset['event'] = np.where(subset['trend']==0,1,0)\n",
    "\n",
    "formula = 'target~VOO+VTI+QQQ+DVY+event'\n",
    "model = smf.ols(formula=formula, data=subset).fit()\n",
    "print(model.summary())\n"
   ]
  },
  {
   "cell_type": "code",
   "execution_count": 6,
   "id": "c09922a6",
   "metadata": {},
   "outputs": [
    {
     "name": "stdout",
     "output_type": "stream",
     "text": [
      "                            OLS Regression Results                            \n",
      "==============================================================================\n",
      "Dep. Variable:                 target   R-squared:                       0.381\n",
      "Model:                            OLS   Adj. R-squared:                  0.359\n",
      "Method:                 Least Squares   F-statistic:                     17.11\n",
      "Date:                Wed, 13 Aug 2025   Prob (F-statistic):           2.66e-26\n",
      "Time:                        21:00:08   Log-Likelihood:                 889.88\n",
      "No. Observations:                 318   AIC:                            -1756.\n",
      "Df Residuals:                     306   BIC:                            -1711.\n",
      "Df Model:                          11                                         \n",
      "Covariance Type:            nonrobust                                         \n",
      "==============================================================================\n",
      "                 coef    std err          t      P>|t|      [0.025      0.975]\n",
      "------------------------------------------------------------------------------\n",
      "Intercept      0.0006      0.001      0.681      0.496      -0.001       0.002\n",
      "VOO            0.2388      0.843      0.283      0.777      -1.420       1.897\n",
      "VTI            0.1660      0.782      0.212      0.832      -1.373       1.705\n",
      "QQQ           -0.5144      0.349     -1.476      0.141      -1.200       0.171\n",
      "DVY            0.9333      0.212      4.407      0.000       0.517       1.350\n",
      "pre3           0.0087      0.007      1.283      0.201      -0.005       0.022\n",
      "pre2          -0.0033      0.007     -0.483      0.629      -0.017       0.010\n",
      "pre1          -0.0006      0.007     -0.091      0.928      -0.014       0.013\n",
      "post0         -0.0149      0.007     -2.196      0.029      -0.028      -0.002\n",
      "post1         -0.0047      0.007     -0.686      0.493      -0.018       0.009\n",
      "post2         -0.0045      0.007     -0.658      0.511      -0.018       0.009\n",
      "post3         -0.0070      0.007     -1.032      0.303      -0.020       0.006\n",
      "==============================================================================\n",
      "Omnibus:                       93.747   Durbin-Watson:                   2.063\n",
      "Prob(Omnibus):                  0.000   Jarque-Bera (JB):             1835.291\n",
      "Skew:                           0.647   Prob(JB):                         0.00\n",
      "Kurtosis:                      14.698   Cond. No.                     1.29e+03\n",
      "==============================================================================\n",
      "\n",
      "Notes:\n",
      "[1] Standard Errors assume that the covariance matrix of the errors is correctly specified.\n",
      "[2] The condition number is large, 1.29e+03. This might indicate that there are\n",
      "strong multicollinearity or other numerical problems.\n"
     ]
    }
   ],
   "source": [
    "subset = staggered_df[(staggered_df['trend'] >= -60) & (staggered_df['trend'] < 4)].copy()\n",
    "\n",
    "subset['pre1'] = subset['trend'].apply(lambda x: 1 if x == -1 else 0)\n",
    "subset['pre2'] = subset['trend'].apply(lambda x: 1 if x == -2 else 0)\n",
    "subset['pre3'] = subset['trend'].apply(lambda x: 1 if x == -3 else 0)\n",
    "subset['post0'] = subset['trend'].apply(lambda x: 1 if x == 0 else 0)\n",
    "subset['post1'] = subset['trend'].apply(lambda x: 1 if x == 1 else 0)\n",
    "subset['post2'] = subset['trend'].apply(lambda x: 1 if x == 2 else 0)\n",
    "subset['post3'] = subset['trend'].apply(lambda x: 1 if x == 3 else 0)\n",
    "\n",
    "formula = 'target~VOO+VTI+QQQ+DVY+pre3+pre2+pre1+post0+post1+post2+post3'\n",
    "model = smf.ols(formula=formula, data=subset).fit()\n",
    "print(model.summary())\n",
    "\n",
    "#BONUS: model = smf.ols(formula=formula, data=subset).fit(cov_type='cluster', cov_kwds={'groups': subset['date']})\n"
   ]
  },
  {
   "cell_type": "code",
   "execution_count": 7,
   "id": "010077ff",
   "metadata": {},
   "outputs": [
    {
     "data": {
      "image/png": "[encoded data removed]",
      "text/plain": [
       "<Figure size 640x480 with 1 Axes>"
      ]
     },
     "metadata": {},
     "output_type": "display_data"
    }
   ],
   "source": [
    "# Extract coefficients for pre3, pre2, pre1, post0, post1, post2, and post3\n",
    "coefficients = ['pre3', 'pre2', 'pre1', 'post0', 'post1', 'post2', 'post3']\n",
    "x_values = range(-3, 4)  # x values from -3 to +3\n",
    "y_values = [model.params[coef] for coef in coefficients]\n",
    "\n",
    "# Add error bars using standard errors from model.bse\n",
    "y_errors = [1.96*model.bse[coef] for coef in coefficients]\n",
    "\n",
    "# Plot the coefficient estimates as a connected line graph\n",
    "plt.plot(x_values, y_values, marker='o', color='b', label='Coefficient Estimates')\n",
    "\n",
    "# Add error bars to the plot\n",
    "plt.errorbar(x_values, y_values, yerr=y_errors, fmt='o', color='b', capsize=5, label='95% Confidence Interval')\n",
    "plt.title('Event Study Coefficients')\n",
    "plt.xlabel('Time Relative to Event')\n",
    "plt.ylabel('Coefficient Estimate')\n",
    "plt.axhline(0, color='red', linestyle='--', linewidth=1, label='Zero Line')\n",
    "plt.xticks(x_values)\n",
    "plt.legend()\n",
    "plt.grid(True)\n",
    "plt.show()"
   ]
  }
 ],
 "metadata": {
  "kernelspec": {
   "display_name": "venv",
   "language": "python",
   "name": "python3"
  },
  "language_info": {
   "codemirror_mode": {
    "name": "ipython",
    "version": 3
   },
   "file_extension": ".py",
   "mimetype": "text/x-python",
   "name": "python",
   "nbconvert_exporter": "python",
   "pygments_lexer": "ipython3",
   "version": "3.9.6"
  }
 },
 "nbformat": 4,
 "nbformat_minor": 5
}
