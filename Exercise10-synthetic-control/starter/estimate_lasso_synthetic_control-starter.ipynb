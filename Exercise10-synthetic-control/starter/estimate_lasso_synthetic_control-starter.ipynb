{
 "cells": [
  {
   "cell_type": "markdown",
   "metadata": {},
   "source": [
    "#### Exercise 10 - Starter - Synthetic Control Using Lasso"
   ]
  },
  {
   "cell_type": "markdown",
   "metadata": {},
   "source": [
    "An e-commerce company operating in 10 different regions implemented a new marketing strategy in a single test region (Region 5) starting October 1 2024 continuing indefinitely. As we've generated the data ourselves, we know the ground truth is that the treatment increased revenue in that region by 20% over what it would have been if not for the change. \n",
    "\n",
    "Your goal is to build a synthetic control model that reasonably reflects this increase. "
   ]
  },
  {
   "cell_type": "code",
   "execution_count": null,
   "metadata": {},
   "outputs": [],
   "source": [
    "# TO-DO: Import pandas, matplotlib.pyplot, and LassoCV from sklearn.linear_model \n"
   ]
  },
  {
   "cell_type": "code",
   "execution_count": null,
   "metadata": {},
   "outputs": [],
   "source": [
    "# TO-DO: Read in CSV file called \"synthetic_control_revenue_data.csv\" "
   ]
  },
  {
   "cell_type": "code",
   "execution_count": null,
   "metadata": {},
   "outputs": [],
   "source": [
    "# Set parameters \n",
    "event_start = \"2024-10-01\" \n",
    "treated_region = \"Region 5\"\n",
    "control_regions = # To-DO: List of all regions except the treated region \n"
   ]
  },
  {
   "cell_type": "code",
   "execution_count": null,
   "metadata": {},
   "outputs": [],
   "source": [
    "# Estimate a Lasso regression model using all pre-treatment data \n",
    "preperiod = # TO-DO: Filter for pre-treatment data \n",
    "\n",
    "# Initialize Lasso model with a regularization parameter (in the future, you may want to tune this parameter)\n",
    "lasso_model = LassoCV(cv=5, random_state=42)) \n",
    "\n",
    "# TO-DO: Fit the lasso model, save and print the coefficients\n",
    "\n",
    "print(lasso_coefficients)"
   ]
  },
  {
   "cell_type": "code",
   "execution_count": null,
   "metadata": {},
   "outputs": [],
   "source": [
    "# Use the coefficients to estimate the synthetic control for the entire period \n",
    "# HINT: Use the dot product of the control regions and the lasso coefficients \n",
    "\n",
    "df[\"Synthetic Control\"] = \n",
    "\n",
    "# Plot the treated region and synthetic control\n",
    "# HINT: The synthetic control may be directly on top of the treated region, \n",
    "#       Offsetting by a small amount can help visualize that they are two separate lines \n"
   ]
  },
  {
   "cell_type": "code",
   "execution_count": null,
   "metadata": {},
   "outputs": [],
   "source": [
    "# TO-DO: Calculate the treatment effect as the difference between the treated region and the synthetic control \n",
    "df[\"Treatment Effect\"] = \n",
    "\n",
    "# TO-DO: Calculate the average monthly treatment effect in the post-treatment period: \n",
    "# How does this compare to the value the treated region would have had without the intervention?  \n"
   ]
  }
 ],
 "metadata": {
  "kernelspec": {
   "display_name": "venv",
   "language": "python",
   "name": "python3"
  },
  "language_info": {
   "codemirror_mode": {
    "name": "ipython",
    "version": 3
   },
   "file_extension": ".py",
   "mimetype": "text/x-python",
   "name": "python",
   "nbconvert_exporter": "python",
   "pygments_lexer": "ipython3",
   "version": "3.9.6"
  }
 },
 "nbformat": 4,
 "nbformat_minor": 2
}
