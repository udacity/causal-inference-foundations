{
 "cells": [
  {
   "cell_type": "markdown",
   "id": "92fa866d",
   "metadata": {},
   "source": [
    "#### Exercise 7 - Starter - Event Study Model "
   ]
  },
  {
   "cell_type": "markdown",
   "id": "97dfa8e6",
   "metadata": {},
   "source": [
    "In Aug 2024, Starbucks announced a CEO change without any other materially confounding information (e.g. it wasn't along an earnings report). Events like these are something companies and investors are regularly interested in quantifying impact -- but naturally don't want to design an experiment randomly giving users bad experiences\n",
    "\n",
    "Examples of how this might transfer: Suppose there is an outage that affects a certain region or population of users (iOs but not Android, NYC but not San Francisco or LA, purchasers of product X but not Y, etc.). If you have a time series of performance by these groups, you may consider these models to estimate the impact."
   ]
  },
  {
   "cell_type": "code",
   "execution_count": null,
   "id": "6dde8f13",
   "metadata": {},
   "outputs": [],
   "source": [
    "import pandas as pd\n",
    "import numpy as np\n",
    "import matplotlib.pyplot as plt\n",
    "import datetime\n",
    "import statsmodels.formula.api as smf"
   ]
  },
  {
   "cell_type": "code",
   "execution_count": null,
   "id": "0b46e56e",
   "metadata": {},
   "outputs": [],
   "source": [
    "event_date = '2024-08-13'\n",
    "prices = pd.read_csv('../data/sbux_ceo_prices.csv')\n",
    "prices = prices[prices['returns'].isnull()==0].copy()\n",
    "print(prices['date'].agg(['min','max']))\n",
    "prices.head()"
   ]
  },
  {
   "cell_type": "markdown",
   "id": "e46d6efc",
   "metadata": {},
   "source": [
    "### Estimate event study model"
   ]
  },
  {
   "cell_type": "code",
   "execution_count": null,
   "id": "c43df1dd",
   "metadata": {},
   "outputs": [],
   "source": [
    "#TO-DO: EVENT STUDIES REQUIRE EACH COMPARISON GROUP TO BE A SEPARATE COLUMN. \n",
    "# RESHAPE THE DATA SO THAT THERE IS ONE ROW PER DATE AND EACH TICKER HAS ITS OWN COLUMN \n"
   ]
  },
  {
   "cell_type": "code",
   "execution_count": null,
   "id": "3304e194",
   "metadata": {},
   "outputs": [],
   "source": [
    "preperiod_days = 120\n",
    "postperiod_days = 1\n",
    "\n",
    "event_date = pd.to_datetime(event_date)\n",
    "model_start_date = \n",
    "model_end_date = \n",
    "\n",
    "# TO-DO: SUBSET THE DATA FOR RELEVANT DATES AND THEN RUN THE EVENT STUDY MODEL \n",
    "subset = \n",
    "formula = \n",
    "model = smf.ols(formula=formula, data=subset).fit()\n",
    "print(model.summary())\n"
   ]
  },
  {
   "cell_type": "code",
   "execution_count": null,
   "id": "6c75c695",
   "metadata": {},
   "outputs": [],
   "source": [
    "# TO-DO: 1. Obtain the baseline market value (shares * price) just prior to the event date. \n",
    "#        2. What is the estimated nominal market value gain (in dollars) from the event? \n",
    "\n",
    "total_shares = 1132800000\n",
    "lastmarketvalue = \n",
    "\n",
    "print(\"Last Market Value: ${:,}\".format(round(lastmarketvalue)))\n",
    "print(\"Estimated Gain: ${:,}\".format())"
   ]
  },
  {
   "cell_type": "code",
   "execution_count": null,
   "id": "7dbf2d23",
   "metadata": {},
   "outputs": [],
   "source": [
    "# TO-DO: Get a distribution of placebo results\n",
    "# 1. Replicate the analysis for each day for 120 days prior to the true event date: \n",
    "#    For each date between (event_date - 120 and event_date - 1), pretend that is the event. \n",
    "# 2. Save the distribution of placebo treatment effect estimates for each of those dates\n",
    "# 3. Plot the distribution as a histogram with black vertical lines for the 95% confidence interval bounds \n",
    "#    and a red vertical line for the effect at the real event date\n",
    "# 4. What is the root mean squared error of the placebo effects? \n",
    "#    You want a small RMSE (low variance) and the distribution should be centered around zero (unbiased)\n",
    "\n",
    "pre_event_dates = \n",
    "\n",
    "print(f\"Mean Placebo Effect: {}\")\n",
    "print(f\"RMSE: {}\")\n",
    "\n",
    "plot_histogram()"
   ]
  }
 ],
 "metadata": {
  "kernelspec": {
   "display_name": "venv",
   "language": "python",
   "name": "python3"
  },
  "language_info": {
   "codemirror_mode": {
    "name": "ipython",
    "version": 3
   },
   "file_extension": ".py",
   "mimetype": "text/x-python",
   "name": "python",
   "nbconvert_exporter": "python",
   "pygments_lexer": "ipython3",
   "version": "3.9.6"
  }
 },
 "nbformat": 4,
 "nbformat_minor": 5
}
