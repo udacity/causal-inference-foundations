{
 "cells": [
  {
   "cell_type": "markdown",
   "metadata": {},
   "source": [
    "#### Exercise 11 - Starter - Compare Synthetic Control to Event Study and Difference-in-Differences"
   ]
  },
  {
   "cell_type": "markdown",
   "metadata": {},
   "source": [
    "An e-commerce company operating in 10 different regions implemented a new marketing strategy in a single test region (Region 5) starting October 1 2024 continuing indefinitely. As we've generated the data ourselves, we know the ground truth is that the treatment increased revenue in that region by 20% over what it would have been if not for the change. \n",
    "\n",
    "In Exercise 10, you built a synthetic control model using Lasso weights to estimate that 20% average treatment effect. Use the same data but model with Difference-in-Differences and Event Study"
   ]
  },
  {
   "cell_type": "code",
   "execution_count": 1,
   "metadata": {},
   "outputs": [],
   "source": [
    "# TO-DO: Import pandas, numpy, Lasso from sklearn.linear_model, and statsmodels.formula.api\n"
   ]
  },
  {
   "cell_type": "code",
   "execution_count": 2,
   "metadata": {},
   "outputs": [],
   "source": [
    "# To-DO: Load the synthetic control revenue data. The Region columns have a space that should be replaced with an underscore.\n",
    "\n"
   ]
  },
  {
   "cell_type": "code",
   "execution_count": 3,
   "metadata": {},
   "outputs": [],
   "source": [
    "# Set parameters \n",
    "treated_region = \"Region_5\"\n",
    "event_start = \"2024-10-01\" \n",
    "\n",
    "# TO-DO: Create a list of control regions by selecting columns that start with \"Region\" but are not the treated region.\n"
   ]
  },
  {
   "cell_type": "markdown",
   "metadata": {},
   "source": [
    "#### Estimate impacts using an event study with all comparison regions"
   ]
  },
  {
   "cell_type": "code",
   "execution_count": 4,
   "metadata": {},
   "outputs": [],
   "source": [
    "\n",
    "# TO-DO: Create a single variable 'post' that indicates whether the month is after the event start date.\n",
    "\n",
    "# TO-DO: Create a formula for the event study model using the treated region, control regions, and the 'post' indicator. \n",
    "\n",
    "# TO-DO: Fit the event study model using statsmodels and extract the Average Treatment Effect for the post period.\n",
    "\n",
    "# TO-DO: Calculate the estimated baseline revenue for the treated region (revenue if not for the treatment)\n",
    "# and the percentage increase from the event study.\n",
    "\n"
   ]
  },
  {
   "cell_type": "markdown",
   "metadata": {},
   "source": [
    "#### Reshape the data (Month-x-Region for each row) and estimate impacts using DiD"
   ]
  },
  {
   "cell_type": "code",
   "execution_count": 5,
   "metadata": {},
   "outputs": [],
   "source": [
    "# TO-DO Reshape (melt) the DataFrame into a long format: One row per month-x-region combination\n",
    "\n",
    "# TO-DO: Set up DiD. You want indicators for the post period, treated region, and their interaction. \n",
    "\n",
    "# TO-DO: Fit a difference-in-differences model using statsmodels\n",
    "\n",
    "# TO-DO Calculate the average treatment effect, estimated baseline revenue, and percentage increase \n"
   ]
  }
 ],
 "metadata": {
  "kernelspec": {
   "display_name": "venv",
   "language": "python",
   "name": "python3"
  },
  "language_info": {
   "codemirror_mode": {
    "name": "ipython",
    "version": 3
   },
   "file_extension": ".py",
   "mimetype": "text/x-python",
   "name": "python",
   "nbconvert_exporter": "python",
   "pygments_lexer": "ipython3",
   "version": "3.9.6"
  }
 },
 "nbformat": 4,
 "nbformat_minor": 2
}
