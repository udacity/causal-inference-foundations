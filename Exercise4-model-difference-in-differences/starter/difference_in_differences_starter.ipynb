{
 "cells": [
  {
   "cell_type": "markdown",
   "metadata": {},
   "source": [
    "#### Exercise 4 - Starter - Difference-in-Differences"
   ]
  },
  {
   "cell_type": "markdown",
   "metadata": {},
   "source": [
    "Your company sells dog toys and cat toys (possibly among other items). Your company hired a professional photographer who overhauled the product photos for dog toys. Starting on Oct 1 2024, all customers reaching the website and observing the dog toy products observed the new photos. \n",
    "\n",
    "Three months later, you are tasked to evaluate the impact of the professional photos on revenue to determine if it is worth making the investment for additional products. \n",
    "\n",
    "We have generated time series panel data for monthly revenue from dog toys and cat toys throughout 2023 and 2024. Revenue is driven by a baseline (separate for each product), seasonality, a general holiday season bump, a 'ground truth' effect for the professional photos, and random noise. \n",
    "\n",
    "The benefit of generating data this way is that we know what the true effect is and we can test how well the model performs under various circumstances."
   ]
  },
  {
   "cell_type": "code",
   "execution_count": 1,
   "metadata": {},
   "outputs": [],
   "source": [
    "import pandas as pd\n",
    "import numpy as np\n",
    "import statsmodels.formula.api as smf \n",
    "import seaborn as sns\n",
    "import matplotlib.pyplot as plt"
   ]
  },
  {
   "cell_type": "code",
   "execution_count": 2,
   "metadata": {},
   "outputs": [],
   "source": [
    "# Set random seed for reproducibility\n",
    "np.random.seed(42)\n",
    "\n",
    "# Parameters\n",
    "n_months = 24\n",
    "products = [\"Dog Toys\", \"Cat Toys\"]\n",
    "months = pd.date_range(start=\"2023-01-01\", periods=n_months, freq='MS')\n",
    "\n",
    "# Marketing event date\n",
    "event_date = pd.to_datetime('2024-10-01')\n",
    "model_start_date = '2024-01-01'\n",
    "model_end_date = '2025-01-01' \n",
    "\n",
    "\n",
    "# Create base dataframe\n",
    "df = pd.DataFrame([(month, product) for month in months for product in products],\n",
    "                  columns=[\"Month\", \"Product\"])\n",
    "\n",
    "# Add month number for seasonality\n",
    "df[\"Month_Num\"] = df[\"Month\"].dt.month\n",
    "\n",
    "# Seasonality: smooth wave + December holiday bump\n",
    "df[\"Seasonality\"] = 500 * np.sin((df[\"Month_Num\"] - 1) / 12 * 2 * np.pi)\n",
    "df[\"HolidayBump\"] = np.where(df[\"Month_Num\"] >= 11, 1000, 0)\n",
    "\n",
    "# Add randomness and slight product-level difference\n",
    "df[\"BaseRevenue\"] = 10000\n",
    "df[\"ProductGapBaseline\"] = df[\"Product\"].map({\"Dog Toys\": 200, \"Cat Toys\": 0})\n",
    "df[\"Noise\"] = np.random.normal(0, 50, size=len(df))\n",
    "\n",
    "\n",
    "#%%%%%%%%%%%%%%%%%%%%%%%%%%%%%%%%%%%%%%%%%%%%%%%%%%%%%%%%%%%%%%%%%%%%%%%%\n",
    "#%%%%%  This is the ground-truth effect of the treatment: \n",
    "#%%%%%  an extra $1000 monthly revenue for dog toys in Q4 2024 \n",
    "#%%%%%%%%%%%%%%%%%%%%%%%%%%%%%%%%%%%%%%%%%%%%%%%%%%%%%%%%%%%%%%%%%%%%%%%%\n",
    "\n",
    "df['BetterPhotos'] = np.where((df['Product']=='Dog Toys') & (df['Month'] >= event_date), 1000, 0)\n",
    "\n",
    "# Final revenue\n",
    "df[\"Revenue\"] = (\n",
    "    df[\"BaseRevenue\"]\n",
    "    + df[\"ProductGapBaseline\"]\n",
    "    + df[\"Seasonality\"]\n",
    "    + df[\"HolidayBump\"]\n",
    "    + df[\"BetterPhotos\"]\n",
    "    + df[\"Noise\"]\n",
    ")\n",
    "\n",
    "# Final output DataFrame\n",
    "df = df[[\"Month\", \"Product\", \"Revenue\"]]\n",
    "\n",
    "\n",
    "# TO-DO: Visualize the time series \n",
    "\n"
   ]
  },
  {
   "cell_type": "markdown",
   "metadata": {},
   "source": [
    "What would happen if we ran the interrupted time series model on dog toys from the previous lesson?"
   ]
  },
  {
   "cell_type": "code",
   "execution_count": null,
   "metadata": {},
   "outputs": [],
   "source": [
    "dogs = df[(df['Product']=='Dog Toys') & (df['Month'] >= model_start_date) & (df['Month'] < model_end_date)].copy()\n",
    "\n",
    "# TO-DO: Estimate an Interrupted Time Series using only data for dog toys \n",
    "\n",
    "formula = \n",
    "model = smf.ols(formula, data=dogs).fit()\n",
    "print(model.summary())"
   ]
  },
  {
   "cell_type": "code",
   "execution_count": null,
   "metadata": {},
   "outputs": [],
   "source": [
    "### TO-DO Calculate the average monthly effect from the ITS\n",
    "\n",
    "its_effect = \n",
    "print(f\"Avg Monthly Effect:{its_effect.sum()/dogs['post'].sum() : 0.1f}\")\n"
   ]
  },
  {
   "cell_type": "markdown",
   "metadata": {},
   "source": [
    "#### Estimate the difference-in-differences model"
   ]
  },
  {
   "cell_type": "code",
   "execution_count": null,
   "metadata": {},
   "outputs": [
    {
     "name": "stdout",
     "output_type": "stream",
     "text": [
      "                            OLS Regression Results                            \n",
      "==============================================================================\n",
      "Dep. Variable:                Revenue   R-squared:                       0.532\n",
      "Model:                            OLS   Adj. R-squared:                  0.462\n",
      "Method:                 Least Squares   F-statistic:                     7.580\n",
      "Date:                Sun, 15 Jun 2025   Prob (F-statistic):            0.00141\n",
      "Time:                        09:46:38   Log-Likelihood:                -176.89\n",
      "No. Observations:                  24   AIC:                             361.8\n",
      "Df Residuals:                      20   BIC:                             366.5\n",
      "Df Model:                           3                                         \n",
      "Covariance Type:            nonrobust                                         \n",
      "================================================================================\n",
      "                   coef    std err          t      P>|t|      [0.025      0.975]\n",
      "--------------------------------------------------------------------------------\n",
      "Intercept     1.012e+04    140.326     72.127      0.000    9828.604    1.04e+04\n",
      "treated        196.4070    198.451      0.990      0.334    -217.554     610.368\n",
      "post           151.6128    280.652      0.540      0.595    -433.817     737.043\n",
      "post_treated   968.7433    396.902      2.441      0.024     140.820    1796.666\n",
      "==============================================================================\n",
      "Omnibus:                        2.487   Durbin-Watson:                   0.403\n",
      "Prob(Omnibus):                  0.288   Jarque-Bera (JB):                2.004\n",
      "Skew:                          -0.580   Prob(JB):                        0.367\n",
      "Kurtosis:                       2.188   Cond. No.                         6.50\n",
      "==============================================================================\n",
      "\n",
      "Notes:\n",
      "[1] Standard Errors assume that the covariance matrix of the errors is correctly specified.\n"
     ]
    }
   ],
   "source": [
    "# TO-DO: Estimate the difference-in-differences model \n",
    "df['treated'] = \n",
    "df['post'] = \n",
    "df['post_treated'] = \n",
    "\n",
    "subset = \n",
    "formula = \n",
    "model = smf.ols(formula, data=subset).fit()\n",
    "print(model.summary())"
   ]
  },
  {
   "cell_type": "code",
   "execution_count": null,
   "metadata": {},
   "outputs": [
    {
     "name": "stdout",
     "output_type": "stream",
     "text": [
      "Avg Monthly Effect: 968.7\n"
     ]
    }
   ],
   "source": [
    "### TO-DO: What is the average monthly effect from the Diff-in-Diff model?  How does it compare to ground truth?\n",
    "\n",
    "did_effect = \n",
    "print(f\"Avg Monthly Effect:{did_effect.sum()/subset['post_treated'].sum() : 0.1f}\")\n"
   ]
  }
 ],
 "metadata": {
  "kernelspec": {
   "display_name": "venv",
   "language": "python",
   "name": "python3"
  },
  "language_info": {
   "codemirror_mode": {
    "name": "ipython",
    "version": 3
   },
   "file_extension": ".py",
   "mimetype": "text/x-python",
   "name": "python",
   "nbconvert_exporter": "python",
   "pygments_lexer": "ipython3",
   "version": "3.9.6"
  }
 },
 "nbformat": 4,
 "nbformat_minor": 2
}
