{
 "cells": [
  {
   "cell_type": "markdown",
   "id": "97dfa8e6",
   "metadata": {},
   "source": [
    "Use stock market data to estimate the impact of the ex-dividend data on stock prices. The ex-dividend date is the first trading date after the dividend record date. Whoever owns the stock on the record date receives the dividend, so purchasing a dividend-paying stock on the ex-dividend date means you've just missed the payout and now have to wait another quarter (typically) until the next payout.\n",
    "\n",
    "It's often assumed that if markets are efficient that the value of the company should drop on the ex-dividend date because the company is about to distribute cash that a new buyer would not receive, and that's the longest period for which a new buyer would have to wait for the dividend. Let's test this theory by evaluating the incremental price change (net of market performance) on ex-dividend dates for a select group of dividend-paying stocks. "
   ]
  },
  {
   "cell_type": "code",
   "execution_count": null,
   "id": "6dde8f13",
   "metadata": {},
   "outputs": [],
   "source": [
    "import pandas as pd\n",
    "import numpy as np\n",
    "import matplotlib.pyplot as plt\n",
    "import datetime\n",
    "import statsmodels.formula.api as smf"
   ]
  },
  {
   "cell_type": "code",
   "execution_count": null,
   "id": "bdf6d1b6",
   "metadata": {},
   "outputs": [],
   "source": [
    "# These are your event dates for each ticker\n",
    "\n",
    "ex_dividend_dates = {'XOM':'2025-05-15' ,\n",
    "                     'JNJ':'2025-05-27',\n",
    "                     'CVX':'2025-05-19',\n",
    "                     'PG':'2025-04-21',\n",
    "                     'PM':'2025-03-20'}\n",
    "\n",
    "targets = list(ex_dividend_dates.keys())\n",
    "\n"
   ]
  },
  {
   "cell_type": "code",
   "execution_count": null,
   "id": "72caff9a",
   "metadata": {},
   "outputs": [],
   "source": [
    "rawdata = pd.read_csv('../data/staggered_rollout_dividends.csv', parse_dates=['date'])\n",
    "\n",
    "# TO-DO: From rawdata, create a variable called 'trend' that takes on the value of 0 on the ex dividend date, \n",
    "# -1 for the previous trading date, -2 for the one before that, +1 for the following trading date and so on.\n",
    "# Note that if an ex-dividend date is on a monday, \n",
    "# the previous friday (if it is the previous date in the data) should be -1 not -3\n",
    "# save the dataframe as staggered_df \n",
    "\n",
    "\n",
    "print(staggered_df[staggered_df['trend']==0])\n",
    "print(staggered_df[staggered_df['trend']==-1])\n",
    "print(staggered_df[staggered_df['trend']==1])\n",
    "\n",
    "\n"
   ]
  },
  {
   "cell_type": "markdown",
   "id": "e46d6efc",
   "metadata": {},
   "source": [
    "### Estimate event study model"
   ]
  },
  {
   "cell_type": "code",
   "execution_count": null,
   "id": "3304e194",
   "metadata": {},
   "outputs": [],
   "source": [
    "# Estimate the event study model only considering the day of the ex dividend date; \n",
    "# do not include any dates after that or split out pre-period dates \n",
    "\n",
    "# how many staggered time series are there that have a trading date on the ex-dividend date?\n",
    "# how many of these dates are unique? \n",
    "\n",
    "subset = \n",
    "formula = \n",
    "model = smf.ols(formula=formula, data=subset).fit()\n",
    "print(model.summary())\n"
   ]
  },
  {
   "cell_type": "code",
   "execution_count": null,
   "id": "c09922a6",
   "metadata": {},
   "outputs": [],
   "source": [
    "# Now include 3 additional trading days past the event date. \n",
    "# The model should have dummy variables for -3, -2, -1, 0, 1, 2, and 3\n",
    "\n",
    "subset = \n",
    "formula = \n",
    "model = \n",
    "print(model.summary())\n",
    "\n",
    "#BONUS: inside the fit() method, you can cluster the standard errors at the subset['date'] level for an even better fit\n"
   ]
  },
  {
   "cell_type": "code",
   "execution_count": null,
   "id": "010077ff",
   "metadata": {},
   "outputs": [],
   "source": [
    "# TO-DO: As you did in previous exercises, plot the coefficients from the model \n",
    "# where the x axis goes from -3 to +3 and the y-axis has the coefficient values with standard error bars \n"
   ]
  }
 ],
 "metadata": {
  "kernelspec": {
   "display_name": "venv",
   "language": "python",
   "name": "python3"
  },
  "language_info": {
   "codemirror_mode": {
    "name": "ipython",
    "version": 3
   },
   "file_extension": ".py",
   "mimetype": "text/x-python",
   "name": "python",
   "nbconvert_exporter": "python",
   "pygments_lexer": "ipython3",
   "version": "3.9.6"
  }
 },
 "nbformat": 4,
 "nbformat_minor": 5
}
