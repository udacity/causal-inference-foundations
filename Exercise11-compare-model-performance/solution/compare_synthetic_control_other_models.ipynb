{
 "cells": [
  {
   "cell_type": "markdown",
   "metadata": {},
   "source": [
    "#### Exercise 11 - Solution - Compare Synthetic Control to Event Study and Difference-in-Differences"
   ]
  },
  {
   "cell_type": "markdown",
   "metadata": {},
   "source": [
    "An e-commerce company operating in 10 different regions implemented a new marketing strategy in a single test region (Region 5) starting October 1 2024 continuing indefinitely. As we've generated the data ourselves, we know the ground truth is that the treatment increased revenue in that region by 20% over what it would have been if not for the change. \n",
    "\n",
    "In Exercise 10, you built a synthetic control model using Lasso weights to estimate that 20% average treatment effect. Use the same data but model with Difference-in-Differences and Event Study"
   ]
  },
  {
   "cell_type": "code",
   "execution_count": 2,
   "metadata": {},
   "outputs": [],
   "source": [
    "import pandas as pd\n",
    "import statsmodels.formula.api as smf \n"
   ]
  },
  {
   "cell_type": "code",
   "execution_count": 3,
   "metadata": {},
   "outputs": [
    {
     "data": {
      "text/html": [
       "<div>\n",
       "<style scoped>\n",
       "    .dataframe tbody tr th:only-of-type {\n",
       "        vertical-align: middle;\n",
       "    }\n",
       "\n",
       "    .dataframe tbody tr th {\n",
       "        vertical-align: top;\n",
       "    }\n",
       "\n",
       "    .dataframe thead th {\n",
       "        text-align: right;\n",
       "    }\n",
       "</style>\n",
       "<table border=\"1\" class=\"dataframe\">\n",
       "  <thead>\n",
       "    <tr style=\"text-align: right;\">\n",
       "      <th></th>\n",
       "      <th>Month</th>\n",
       "      <th>Region_1</th>\n",
       "      <th>Region_2</th>\n",
       "      <th>Region_3</th>\n",
       "      <th>Region_4</th>\n",
       "      <th>Region_5</th>\n",
       "      <th>Region_6</th>\n",
       "      <th>Region_7</th>\n",
       "      <th>Region_8</th>\n",
       "      <th>Region_9</th>\n",
       "      <th>Region_10</th>\n",
       "    </tr>\n",
       "  </thead>\n",
       "  <tbody>\n",
       "    <tr>\n",
       "      <th>0</th>\n",
       "      <td>2023-01-01</td>\n",
       "      <td>9322.565026</td>\n",
       "      <td>10763.201411</td>\n",
       "      <td>8379.885931</td>\n",
       "      <td>9258.455623</td>\n",
       "      <td>9450.947929</td>\n",
       "      <td>10437.677905</td>\n",
       "      <td>10060.643647</td>\n",
       "      <td>9985.189491</td>\n",
       "      <td>9328.222526</td>\n",
       "      <td>9639.947623</td>\n",
       "    </tr>\n",
       "    <tr>\n",
       "      <th>1</th>\n",
       "      <td>2023-02-01</td>\n",
       "      <td>9737.938268</td>\n",
       "      <td>11701.398724</td>\n",
       "      <td>11241.961029</td>\n",
       "      <td>10991.843109</td>\n",
       "      <td>10222.822882</td>\n",
       "      <td>10700.643686</td>\n",
       "      <td>10281.504076</td>\n",
       "      <td>10915.543547</td>\n",
       "      <td>10560.931888</td>\n",
       "      <td>11581.508977</td>\n",
       "    </tr>\n",
       "    <tr>\n",
       "      <th>2</th>\n",
       "      <td>2023-03-01</td>\n",
       "      <td>11287.917691</td>\n",
       "      <td>11792.099443</td>\n",
       "      <td>11363.351753</td>\n",
       "      <td>9207.389538</td>\n",
       "      <td>10847.371295</td>\n",
       "      <td>11319.571857</td>\n",
       "      <td>12205.977940</td>\n",
       "      <td>12243.919931</td>\n",
       "      <td>10102.988763</td>\n",
       "      <td>11022.111375</td>\n",
       "    </tr>\n",
       "    <tr>\n",
       "      <th>3</th>\n",
       "      <td>2023-04-01</td>\n",
       "      <td>12584.751131</td>\n",
       "      <td>12967.746822</td>\n",
       "      <td>12867.541821</td>\n",
       "      <td>11259.416674</td>\n",
       "      <td>11975.964764</td>\n",
       "      <td>12603.817098</td>\n",
       "      <td>11528.820985</td>\n",
       "      <td>11631.156162</td>\n",
       "      <td>11660.287992</td>\n",
       "      <td>12052.554474</td>\n",
       "    </tr>\n",
       "    <tr>\n",
       "      <th>4</th>\n",
       "      <td>2023-05-01</td>\n",
       "      <td>11816.404647</td>\n",
       "      <td>11426.054667</td>\n",
       "      <td>11258.764335</td>\n",
       "      <td>11598.348889</td>\n",
       "      <td>11540.803870</td>\n",
       "      <td>12154.049899</td>\n",
       "      <td>10765.484396</td>\n",
       "      <td>12401.222295</td>\n",
       "      <td>11194.799213</td>\n",
       "      <td>11972.444224</td>\n",
       "    </tr>\n",
       "  </tbody>\n",
       "</table>\n",
       "</div>"
      ],
      "text/plain": [
       "        Month      Region_1      Region_2      Region_3      Region_4  \\\n",
       "0  2023-01-01   9322.565026  10763.201411   8379.885931   9258.455623   \n",
       "1  2023-02-01   9737.938268  11701.398724  11241.961029  10991.843109   \n",
       "2  2023-03-01  11287.917691  11792.099443  11363.351753   9207.389538   \n",
       "3  2023-04-01  12584.751131  12967.746822  12867.541821  11259.416674   \n",
       "4  2023-05-01  11816.404647  11426.054667  11258.764335  11598.348889   \n",
       "\n",
       "       Region_5      Region_6      Region_7      Region_8      Region_9  \\\n",
       "0   9450.947929  10437.677905  10060.643647   9985.189491   9328.222526   \n",
       "1  10222.822882  10700.643686  10281.504076  10915.543547  10560.931888   \n",
       "2  10847.371295  11319.571857  12205.977940  12243.919931  10102.988763   \n",
       "3  11975.964764  12603.817098  11528.820985  11631.156162  11660.287992   \n",
       "4  11540.803870  12154.049899  10765.484396  12401.222295  11194.799213   \n",
       "\n",
       "      Region_10  \n",
       "0   9639.947623  \n",
       "1  11581.508977  \n",
       "2  11022.111375  \n",
       "3  12052.554474  \n",
       "4  11972.444224  "
      ]
     },
     "execution_count": 3,
     "metadata": {},
     "output_type": "execute_result"
    }
   ],
   "source": [
    "df = pd.read_csv(\"../data/synthetic_control_revenue_data.csv\", parse_dates=True)\n",
    "\n",
    "# First: Replace the space between \"Region\" and the number with an underscore\n",
    "df.columns = [col.replace(\" \", \"_\") for col in df.columns]\n",
    "df.head()\n"
   ]
  },
  {
   "cell_type": "code",
   "execution_count": 4,
   "metadata": {},
   "outputs": [],
   "source": [
    "# Set parameters \n",
    "treated_region = \"Region_5\"\n",
    "control_regions = [col for col in df.columns if col.startswith(\"Region\") and col != treated_region]\n",
    "event_start = \"2024-10-01\" \n"
   ]
  },
  {
   "cell_type": "markdown",
   "metadata": {},
   "source": [
    "#### Estimate impacts using an event study with all comparison regions"
   ]
  },
  {
   "cell_type": "code",
   "execution_count": 5,
   "metadata": {},
   "outputs": [
    {
     "name": "stdout",
     "output_type": "stream",
     "text": [
      "                            OLS Regression Results                            \n",
      "==============================================================================\n",
      "Dep. Variable:               Region_5   R-squared:                       0.998\n",
      "Model:                            OLS   Adj. R-squared:                  0.996\n",
      "Method:                 Least Squares   F-statistic:                     631.8\n",
      "Date:                Mon, 11 Aug 2025   Prob (F-statistic):           8.93e-16\n",
      "Time:                        21:12:08   Log-Likelihood:                -138.27\n",
      "No. Observations:                  24   AIC:                             298.5\n",
      "Df Residuals:                      13   BIC:                             311.5\n",
      "Df Model:                          10                                         \n",
      "Covariance Type:            nonrobust                                         \n",
      "==============================================================================\n",
      "                 coef    std err          t      P>|t|      [0.025      0.975]\n",
      "------------------------------------------------------------------------------\n",
      "Intercept   -184.3119    222.631     -0.828      0.423    -665.276     296.653\n",
      "Region_1       0.4926      0.042     11.615      0.000       0.401       0.584\n",
      "Region_2       0.0028      0.031      0.091      0.929      -0.063       0.069\n",
      "Region_3       0.0274      0.028      0.988      0.341      -0.032       0.087\n",
      "Region_4       0.2273      0.034      6.779      0.000       0.155       0.300\n",
      "Region_6       0.0654      0.049      1.330      0.206      -0.041       0.172\n",
      "Region_7       0.1986      0.031      6.331      0.000       0.131       0.266\n",
      "Region_8      -0.0663      0.027     -2.442      0.030      -0.125      -0.008\n",
      "Region_9      -0.0007      0.028     -0.024      0.981      -0.061       0.060\n",
      "Region_10      0.0676      0.030      2.277      0.040       0.003       0.132\n",
      "post        2120.2336    113.035     18.757      0.000    1876.036    2364.431\n",
      "==============================================================================\n",
      "Omnibus:                        1.915   Durbin-Watson:                   1.884\n",
      "Prob(Omnibus):                  0.384   Jarque-Bera (JB):                0.912\n",
      "Skew:                           0.460   Prob(JB):                        0.634\n",
      "Kurtosis:                       3.258   Cond. No.                     3.29e+05\n",
      "==============================================================================\n",
      "\n",
      "Notes:\n",
      "[1] Standard Errors assume that the covariance matrix of the errors is correctly specified.\n",
      "[2] The condition number is large, 3.29e+05. This might indicate that there are\n",
      "strong multicollinearity or other numerical problems.\n"
     ]
    }
   ],
   "source": [
    "\n",
    "df['post'] = (df['Month'] >= event_start).astype(int)\n",
    "formula = f\"{treated_region} ~ {' + '.join(control_regions)} + post\"\n",
    "\n",
    "event_study_model = smf.ols(formula, data=df).fit()\n",
    "event_study_att = event_study_model.params['post']\n",
    "print(event_study_model.summary())\n",
    "\n",
    "\n",
    "# Notes: From the simulated data, we know that Region 5 is a function of Regions 1, 4, and 7.\n",
    "# The coefficients for the other regions are pushed closer to zero in the Lasso model, but have \n",
    "# small, but meaningful non-zero coefficients in the event study model. "
   ]
  },
  {
   "cell_type": "code",
   "execution_count": 6,
   "metadata": {},
   "outputs": [
    {
     "name": "stdout",
     "output_type": "stream",
     "text": [
      "Estimated Baseline Revenue: 10792.32\n",
      "Event Study Pct Increase: 19.6%\n"
     ]
    }
   ],
   "source": [
    "\n",
    "est_baseline_revenue = df[df['post'] == 1][\"Region_5\"].mean() - event_study_att\n",
    "print(f\"Estimated Baseline Revenue: {round(est_baseline_revenue, 2)}\")\n",
    "print(f\"Event Study Pct Increase: {round(100*event_study_att/est_baseline_revenue,1)}%\")"
   ]
  },
  {
   "cell_type": "markdown",
   "metadata": {},
   "source": [
    "#### Reshape the data (Month-x-Region for each row) and estimate impacts using DiD"
   ]
  },
  {
   "cell_type": "code",
   "execution_count": 7,
   "metadata": {},
   "outputs": [
    {
     "name": "stdout",
     "output_type": "stream",
     "text": [
      "                            OLS Regression Results                            \n",
      "==============================================================================\n",
      "Dep. Variable:                Revenue   R-squared:                       0.036\n",
      "Model:                            OLS   Adj. R-squared:                  0.023\n",
      "Method:                 Least Squares   F-statistic:                     2.916\n",
      "Date:                Mon, 11 Aug 2025   Prob (F-statistic):             0.0350\n",
      "Time:                        21:12:08   Log-Likelihood:                -2123.3\n",
      "No. Observations:                 240   AIC:                             4255.\n",
      "Df Residuals:                     236   BIC:                             4268.\n",
      "Df Model:                           3                                         \n",
      "Covariance Type:            nonrobust                                         \n",
      "================================================================================\n",
      "                   coef    std err          t      P>|t|      [0.025      0.975]\n",
      "--------------------------------------------------------------------------------\n",
      "Intercept     1.043e+04    123.422     84.535      0.000    1.02e+04    1.07e+04\n",
      "treated       -186.7666    390.293     -0.479      0.633    -955.670     582.137\n",
      "post          -486.8115    349.089     -1.395      0.164   -1174.540     200.917\n",
      "treated:post  3152.6703   1103.916      2.856      0.005     977.882    5327.459\n",
      "==============================================================================\n",
      "Omnibus:                        1.198   Durbin-Watson:                   1.314\n",
      "Prob(Omnibus):                  0.549   Jarque-Bera (JB):                1.162\n",
      "Skew:                           0.169   Prob(JB):                        0.559\n",
      "Kurtosis:                       2.955   Cond. No.                         10.4\n",
      "==============================================================================\n",
      "\n",
      "Notes:\n",
      "[1] Standard Errors assume that the covariance matrix of the errors is correctly specified.\n",
      "Estimated Baseline Revenue (long format): 9759.88\n",
      "Pct Increase (long format): 32.0%\n"
     ]
    }
   ],
   "source": [
    "# Reshape the DataFrame into a long format\n",
    "long_df = pd.melt(df, id_vars=[\"Month\"], value_vars=control_regions + [treated_region], \n",
    "                  var_name=\"Region\", value_name=\"Revenue\")\n",
    "\n",
    "\n",
    "# Set up DiD\n",
    "long_df['post'] = (long_df['Month'] >= event_start).astype(int)\n",
    "long_df['treated'] = (long_df['Region'] == treated_region).astype(int)\n",
    "\n",
    "# Fit a difference-in-differences model using statsmodels\n",
    "did_model_long = smf.ols(\"Revenue ~ treated + post + treated:post\", data=long_df).fit()\n",
    "print(did_model_long.summary())\n",
    "\n",
    "# Calculate the average treatment effect on the treated (ATT) from the long format model\n",
    "att_long = did_model_long.params['treated:post']\n",
    "treated_revenue = long_df[(long_df['post'] == 1) & (long_df['treated'] == 1)][\"Revenue\"].mean()\n",
    "baseline_revenue = treated_revenue - att_long\n",
    "print(f\"Estimated Baseline Revenue (long format): {round(baseline_revenue, 2)}\")\n",
    "print(f\"Pct Increase (long format): {round(100 * att_long / baseline_revenue, 0)}%\")\n"
   ]
  }
 ],
 "metadata": {
  "kernelspec": {
   "display_name": "venv",
   "language": "python",
   "name": "python3"
  },
  "language_info": {
   "codemirror_mode": {
    "name": "ipython",
    "version": 3
   },
   "file_extension": ".py",
   "mimetype": "text/x-python",
   "name": "python",
   "nbconvert_exporter": "python",
   "pygments_lexer": "ipython3",
   "version": "3.9.6"
  }
 },
 "nbformat": 4,
 "nbformat_minor": 2
}
