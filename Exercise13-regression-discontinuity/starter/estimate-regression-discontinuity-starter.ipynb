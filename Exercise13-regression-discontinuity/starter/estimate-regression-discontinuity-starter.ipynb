{
 "cells": [
  {
   "cell_type": "markdown",
   "metadata": {},
   "source": [
    "#### Exercise 13 - Starter - Estimate Regression Discontinuity"
   ]
  },
  {
   "cell_type": "code",
   "execution_count": null,
   "metadata": {},
   "outputs": [],
   "source": [
    "import numpy as np\n",
    "import pandas as pd\n",
    "import matplotlib.pyplot as plt\n",
    "import seaborn as sns\n",
    "import scipy.stats as stats\n",
    "import statsmodels.formula.api as smf\n"
   ]
  },
  {
   "cell_type": "code",
   "execution_count": null,
   "metadata": {},
   "outputs": [],
   "source": [
    "# TO-DO: Read in employee sales data from: rd_employee_sales_data.csv\n",
    "\n",
    "\n",
    "# set parameters: 40 is the cuttoff for the sales training \n",
    "cutoff = 40\n",
    "\n",
    "\n",
    "# TO-DO: Visualize the discontinuity. \n",
    "# Create a scatterplot of Year 1 Sales vs Year 2 Sales, colored by Training status\n",
    "# Bonus: Add linear slope fits for each value of Training\n"
   ]
  },
  {
   "cell_type": "code",
   "execution_count": null,
   "metadata": {},
   "outputs": [],
   "source": [
    "# TO-DO: Estimate the RD model using all data while excluding Year 1 Sales as the predictor \n"
   ]
  },
  {
   "cell_type": "code",
   "execution_count": null,
   "metadata": {},
   "outputs": [],
   "source": [
    "# TO-DO: Estimate the RD model using all data while including the running variable (Year 1 Sales) as a predictor \n",
    "# How does this change the estimated effect of Training on Year 2 Sales?"
   ]
  },
  {
   "cell_type": "code",
   "execution_count": null,
   "metadata": {},
   "outputs": [],
   "source": [
    "# TO-DO: Re-estimate the RD model using only users with Year 1 Sales within 10 of the cutoff \n",
    "# How does this change the estimated effect of Training on Year 2 Sales?\n"
   ]
  },
  {
   "cell_type": "code",
   "execution_count": null,
   "metadata": {},
   "outputs": [],
   "source": [
    "# TO-DO: Among the treated users in the model, what is the relative effect (percentage change) of Year 2 Sales due to the training?\n",
    "# Calculate the treatment effect relative to the expected Year 2 Sales for a treated user if they had not received the training \n",
    "\n"
   ]
  },
  {
   "cell_type": "code",
   "execution_count": null,
   "metadata": {},
   "outputs": [],
   "source": [
    "# TO-DO: Re-estimate the RD model using only users with Year 1 Sales within 5 of the cutoff\n",
    "# How does this change the estimated effect of Training on Year 2 Sales?  Are results sensitive to the bandwidth?\n",
    "\n"
   ]
  }
 ],
 "metadata": {
  "kernelspec": {
   "display_name": "venv",
   "language": "python",
   "name": "python3"
  },
  "language_info": {
   "codemirror_mode": {
    "name": "ipython",
    "version": 3
   },
   "file_extension": ".py",
   "mimetype": "text/x-python",
   "name": "python",
   "nbconvert_exporter": "python",
   "pygments_lexer": "ipython3",
   "version": "3.9.6"
  }
 },
 "nbformat": 4,
 "nbformat_minor": 2
}
