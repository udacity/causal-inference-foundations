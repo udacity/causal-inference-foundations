{
 "cells": [
  {
   "cell_type": "markdown",
   "id": "a8bc7cab",
   "metadata": {},
   "source": [
    "#### Exercise 8 - Starter - Event Study Time Varying Coefficients "
   ]
  },
  {
   "cell_type": "markdown",
   "id": "97dfa8e6",
   "metadata": {},
   "source": [
    "In Aug 2024, Starbucks announced a CEO change without any other materially confounding information (e.g. it wasn't along an earnings report). Events like these are something companies and investors are regularly interested in quantifying impact -- but naturally don't want to design an experiment randomly giving users bad experiences\n",
    "\n",
    "Examples of how this might transfer: Suppose there is an outage that affects a certain region or population of users (iOs but not Android, NYC but not San Francisco or LA, purchasers of product X but not Y, etc.). If you have a time series of performance by these groups, you may consider these models to estimate the impact."
   ]
  },
  {
   "cell_type": "code",
   "execution_count": null,
   "id": "6dde8f13",
   "metadata": {},
   "outputs": [],
   "source": [
    "import pandas as pd\n",
    "import numpy as np\n",
    "import matplotlib.pyplot as plt\n",
    "import datetime\n",
    "import statsmodels.formula.api as smf"
   ]
  },
  {
   "cell_type": "code",
   "execution_count": null,
   "id": "0b46e56e",
   "metadata": {},
   "outputs": [],
   "source": [
    "event_date = '2024-08-13'\n",
    "prices = pd.read_csv('../../Exercise7-event-study/data/sbux_ceo_prices.csv')\n",
    "prices = prices[prices['returns'].isnull()==0].copy()\n",
    "print(prices['date'].agg(['min','max']))\n",
    "prices.head()"
   ]
  },
  {
   "cell_type": "markdown",
   "id": "e46d6efc",
   "metadata": {},
   "source": [
    "### Estimate event study model"
   ]
  },
  {
   "cell_type": "code",
   "execution_count": null,
   "id": "c43df1dd",
   "metadata": {},
   "outputs": [],
   "source": [
    "# TO-DO: Reshape the data wide so that there is one row per date and a column for each ticker\n",
    "df_wide = \n",
    "\n",
    "# We do not have one observation per date, so get a trend variable \n",
    "# that moves in increments of one for each trading date\n",
    "\n",
    "# TO-DO: Create a variable df_wide['trend'] that takes on the value of 0 on the event date. \n",
    "# It then decreases by 1 for each prior *trading day* and increases by 1 for each successive *trading day*\n",
    "# Specifically, with no trading on weekends, if trend = 1 on a Friday, it should equal 2 on the next monday\n",
    "\n"
   ]
  },
  {
   "cell_type": "code",
   "execution_count": null,
   "id": "3304e194",
   "metadata": {},
   "outputs": [],
   "source": [
    "# TO-DO: Replicate the model from Exercise 7 with a single 'event' dummy taking on 1 when trend = 0\n",
    "\n",
    "preperiod_days = 90\n",
    "postperiod_days = 1\n",
    "\n",
    "subset = df_wide[(df_wide['trend'] >= -1*preperiod_days) & (df_wide['trend'] < postperiod_days)].copy()\n",
    "subset['event'] = \n",
    "\n",
    "formula = \n",
    "model = smf.ols(formula=formula, data=subset).fit()\n",
    "print(model.summary())\n"
   ]
  },
  {
   "cell_type": "code",
   "execution_count": null,
   "id": "51133a6a",
   "metadata": {},
   "outputs": [],
   "source": [
    "# TO-DO: REPLICATE THE ABOVE MODEL WITH SOME ADJUSTMENTS:\n",
    "#        1. INCLUDE 3 TRADING DAYS PAST THE EVENT DATE, SO UP TO AND INCLUDING TREND = 3 \n",
    "#        2. CREATE DUMMIES FOR TREND = -3, -2, -1, 0, +1, +2, AND +3 TO REPRESENT 3 DAYS PRIOR AND POST EVENT\n",
    "#        3. ESTIMATE THE MODEL WITH THE TREND DUMMIES REPLACING THE SINGLE 'EVENT' INDICATOR\n",
    "\n",
    "preperiod_days =\n",
    "postperiod_days =\n",
    "\n",
    "subset = \n",
    "formula = \n",
    "model = smf.ols(formula=formula, data=subset).fit()\n",
    "print(model.summary())\n"
   ]
  },
  {
   "cell_type": "code",
   "execution_count": null,
   "id": "6a89fdbe",
   "metadata": {},
   "outputs": [],
   "source": [
    "# TO-DO: PLOT THE COEFFICIENTS FROM PRE3 TO POST3. \n",
    "# THE X AXIS SHOULD BE INTEGERS RANGING FROM -3 TO +3 INCLUSIVE\n",
    "# THE Y AXIS SHOULD TAKE THE COEFFICIENT VALUES FROM THE REGRESSION ABOVE \n",
    "# BONUS: CAN YOU ADD ERROR BARS? \n",
    "\n",
    "coefficients = \n",
    "x_values = \n",
    "y_values = [model.params[coef] for coef in coefficients]\n",
    "\n",
    "# Add error bars using standard errors from model.bse\n",
    "y_errors = [model.bse[coef] for coef in coefficients]\n",
    "\n",
    "# Plot the coefficient estimates as a connected line graph\n",
    "\n",
    "# Add error bars to the plot\n",
    "plt.errorbar(x_values, y_values, yerr=y_errors, fmt='o', color='b', capsize=5, label='95% Confidence Interval')\n",
    "#...\n",
    "plt.show()"
   ]
  }
 ],
 "metadata": {
  "kernelspec": {
   "display_name": "venv",
   "language": "python",
   "name": "python3"
  },
  "language_info": {
   "codemirror_mode": {
    "name": "ipython",
    "version": 3
   },
   "file_extension": ".py",
   "mimetype": "text/x-python",
   "name": "python",
   "nbconvert_exporter": "python",
   "pygments_lexer": "ipython3",
   "version": "3.9.6"
  }
 },
 "nbformat": 4,
 "nbformat_minor": 5
}
