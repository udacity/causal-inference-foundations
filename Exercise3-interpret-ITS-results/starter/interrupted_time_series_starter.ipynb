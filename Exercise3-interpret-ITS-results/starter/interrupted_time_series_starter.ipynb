{
 "cells": [
  {
   "cell_type": "markdown",
   "metadata": {},
   "source": [
    "#### Exercise 3 - Starter - Interrupted Time Series"
   ]
  },
  {
   "cell_type": "code",
   "execution_count": null,
   "metadata": {},
   "outputs": [],
   "source": [
    "import matplotlib.pyplot as plt\n",
    "import numpy as np\n",
    "import pandas as pd\n",
    "import statsmodels.formula.api as smf"
   ]
  },
  {
   "cell_type": "code",
   "execution_count": null,
   "metadata": {},
   "outputs": [],
   "source": [
    "def plot_data(time_points, untreated, treated):\n",
    "    plt.figure(figsize=(12, 6))\n",
    "    plt.plot(time_points, untreated, label=\"KPI if No Treatment\", linestyle='--', marker='o', color=\"gray\")\n",
    "    plt.plot(time_points, treated, label=\"KPI if Treated\", linestyle='--', marker='o', color=\"orange\")\n",
    "\n",
    "    # Highlight treatment point\n",
    "    plt.axvline(x=-0.5, color=\"gray\", linestyle=\"--\", label=\"Treatment Introduced\")\n",
    "    plt.text(0, max(treated) - 0.2, \"Treatment Starts\", fontsize=12, color=\"gray\")\n",
    "\n",
    "    # Aesthetic improvements\n",
    "    plt.title(\"Interrupted Time Series: Trend Change\", fontsize=16)\n",
    "    plt.xlabel(\"Time\", fontsize=14)\n",
    "    plt.ylabel(\"Outcome Measure\", fontsize=14)\n",
    "    plt.legend(fontsize=12)\n",
    "    plt.grid(alpha=0.3)\n",
    "    plt.tight_layout()\n",
    "\n",
    "    # Display the plot\n",
    "    plt.show()\n"
   ]
  },
  {
   "cell_type": "markdown",
   "metadata": {},
   "source": [
    "#### ITS with a level change only"
   ]
  },
  {
   "cell_type": "code",
   "execution_count": null,
   "metadata": {},
   "outputs": [],
   "source": [
    "\n",
    "# Simulate time series data\n",
    "np.random.seed(42)\n",
    "\n",
    "numobs = 52\n",
    "event_period = 40  # Treatment starts at week 40 (4th quarter)\n",
    "\n",
    "time_points = np.arange(numobs) - event_period\n",
    "untreated = np.random.normal(50, .2, numobs) + 0.2*time_points # Potential Outcome: trend absent treatment\n",
    "\n",
    "# Post-treatment divergence: level change \n",
    "level_change = 2*np.ones(numobs)\n",
    "level_change[:event_period] = 0\n",
    "treated = untreated + level_change\n",
    "\n",
    "plot_data(time_points, untreated, treated)"
   ]
  },
  {
   "cell_type": "code",
   "execution_count": null,
   "metadata": {},
   "outputs": [],
   "source": [
    "# Estimate model with level change only\n",
    "\n",
    "# prepare DataFrame for model\n",
    "df = pd.DataFrame({\n",
    "    'trend': time_points,\n",
    "    'kpi': treated\n",
    "})\n",
    "\n",
    "# Fit an ITS model with level change only\n",
    "\n",
    "# TO-DO: Create indicator for dates on or after treatment start date \n",
    "\n",
    "# TO-DO: Estimate an ITS model testing for a level change only \n",
    "formula = ''  \n",
    "model = smf.ols(formula = formula, data=df).fit()\n",
    "print(model.summary())"
   ]
  },
  {
   "cell_type": "markdown",
   "metadata": {},
   "source": [
    "#### ITS with a trend change"
   ]
  },
  {
   "cell_type": "code",
   "execution_count": null,
   "metadata": {},
   "outputs": [],
   "source": [
    "# Simulate time series data\n",
    "np.random.seed(42)\n",
    "numobs = 52\n",
    "event_period = 40  # Treatment starts at week 40 (4th quarter)\n",
    "\n",
    "time_points = np.arange(numobs) - event_period \n",
    "control = np.random.normal(50, .1, numobs) + 0.2*time_points # Pre-treatment control trend\n",
    "\n",
    "# Post-treatment divergence: trend change \n",
    "trend_change = np.arange(numobs) - event_period \n",
    "trend_change[:event_period] = 0\n",
    "treated = control + 0.3*trend_change  \n",
    "\n",
    "plot_data(time_points, untreated, treated)"
   ]
  },
  {
   "cell_type": "code",
   "execution_count": null,
   "metadata": {},
   "outputs": [],
   "source": [
    "# Estimate model with a trend change only\n",
    "\n",
    "# prepare DataFrame for model\n",
    "df = pd.DataFrame({\n",
    "    'trend': time_points,\n",
    "    'kpi': treated\n",
    "})\n",
    "\n",
    "# Fit an ITS model with trend change only\n",
    "\n",
    "# TO-DO: Create an interaction term in df that is the product of the trend and a post-treatment indicator \n",
    "\n",
    "# TO-DO: Estimate an ITS model testing for a post-treatment trend change only \n",
    "formula = ''  \n",
    "model = smf.ols(formula = formula, data=df).fit()\n",
    "print(model.summary())"
   ]
  },
  {
   "cell_type": "markdown",
   "metadata": {},
   "source": [
    "#### ITS with both a level and trend change"
   ]
  },
  {
   "cell_type": "code",
   "execution_count": null,
   "metadata": {},
   "outputs": [],
   "source": [
    "# Simulate time series data\n",
    "np.random.seed(42)\n",
    "numobs = 52\n",
    "event_period = 40  # Treatment starts at week 40 (4th quarter)\n",
    "\n",
    "time_points = np.arange(numobs) - event_period # recenter so trend is zero at event date\n",
    "control = np.random.normal(50, .5, numobs) + 0.2*time_points # Pre-treatment control trend\n",
    "\n",
    "# Post-treatment divergence: level change \n",
    "level_change = 2*np.ones(numobs)\n",
    "level_change[:event_period] = 0\n",
    "\n",
    "# Post-treatment divergence: trend change \n",
    "trend_change = np.arange(numobs) - event_period \n",
    "trend_change[:event_period] = 0\n",
    "treated = control + 0.3*trend_change + level_change \n",
    "\n",
    "plot_data(time_points, untreated, treated)"
   ]
  },
  {
   "cell_type": "code",
   "execution_count": null,
   "metadata": {},
   "outputs": [],
   "source": [
    "# Estimate model with both a level and trend change\n",
    "\n",
    "# prepare DataFrame for model\n",
    "df = pd.DataFrame({\n",
    "    'trend': time_points,\n",
    "    'kpi': treated\n",
    "})\n",
    "\n",
    "\n",
    "# TO-DO: Create a post-treatment indicator term and an interaction term of that and the trend\n",
    "\n",
    "# TO-DO: Estimate an ITS model testing for both a post-treatment level and trend change \n",
    "formula = ''  \n",
    "model = smf.ols(formula = formula, data=df).fit()\n",
    "print(model.summary())"
   ]
  }
 ],
 "metadata": {
  "kernelspec": {
   "display_name": "venv",
   "language": "python",
   "name": "python3"
  },
  "language_info": {
   "codemirror_mode": {
    "name": "ipython",
    "version": 3
   },
   "file_extension": ".py",
   "mimetype": "text/x-python",
   "name": "python",
   "nbconvert_exporter": "python",
   "pygments_lexer": "ipython3",
   "version": "3.9.6"
  }
 },
 "nbformat": 4,
 "nbformat_minor": 2
}
