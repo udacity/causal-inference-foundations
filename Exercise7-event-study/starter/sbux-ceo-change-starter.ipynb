{
 "cells": [
  {
   "cell_type": "markdown",
   "id": "97dfa8e6",
   "metadata": {},
   "source": [
    "In Aug 2024, Starbucks announced a CEO change without any other materially confounding information (e.g. it wasn't along an earnings report). Events like these are something companies and investors are regularly interested in quantifying impact -- but naturally don't want to design an experiment randomly giving users bad experiences\n",
    "\n",
    "Examples of how this might transfer: Suppose there is an outage that affects a certain region or population of users (iOs but not Android, NYC but not San Francisco or LA, purchasers of product X but not Y, etc.). If you have a time series of performance by these groups, you may consider these models to estimate the impact."
   ]
  },
  {
   "cell_type": "code",
   "execution_count": 1,
   "id": "6dde8f13",
   "metadata": {},
   "outputs": [],
   "source": [
    "import pandas as pd\n",
    "import numpy as np\n",
    "import matplotlib.pyplot as plt\n",
    "import datetime\n",
    "import statsmodels.formula.api as smf"
   ]
  },
  {
   "cell_type": "code",
   "execution_count": 3,
   "id": "0b46e56e",
   "metadata": {},
   "outputs": [
    {
     "name": "stdout",
     "output_type": "stream",
     "text": [
      "min    2024-01-03\n",
      "max    2024-08-30\n",
      "Name: date, dtype: object\n"
     ]
    },
    {
     "data": {
      "text/html": [
       "<div>\n",
       "<style scoped>\n",
       "    .dataframe tbody tr th:only-of-type {\n",
       "        vertical-align: middle;\n",
       "    }\n",
       "\n",
       "    .dataframe tbody tr th {\n",
       "        vertical-align: top;\n",
       "    }\n",
       "\n",
       "    .dataframe thead th {\n",
       "        text-align: right;\n",
       "    }\n",
       "</style>\n",
       "<table border=\"1\" class=\"dataframe\">\n",
       "  <thead>\n",
       "    <tr style=\"text-align: right;\">\n",
       "      <th></th>\n",
       "      <th>date</th>\n",
       "      <th>open</th>\n",
       "      <th>high</th>\n",
       "      <th>low</th>\n",
       "      <th>close</th>\n",
       "      <th>adjclose</th>\n",
       "      <th>volume</th>\n",
       "      <th>ticker</th>\n",
       "      <th>returns</th>\n",
       "    </tr>\n",
       "  </thead>\n",
       "  <tbody>\n",
       "    <tr>\n",
       "      <th>1</th>\n",
       "      <td>2024-01-03</td>\n",
       "      <td>93.959999</td>\n",
       "      <td>94.239998</td>\n",
       "      <td>93.059998</td>\n",
       "      <td>93.230003</td>\n",
       "      <td>89.737869</td>\n",
       "      <td>7161700</td>\n",
       "      <td>SBUX</td>\n",
       "      <td>-0.004697</td>\n",
       "    </tr>\n",
       "    <tr>\n",
       "      <th>2</th>\n",
       "      <td>2024-01-04</td>\n",
       "      <td>93.099998</td>\n",
       "      <td>94.580002</td>\n",
       "      <td>93.000000</td>\n",
       "      <td>93.550003</td>\n",
       "      <td>90.045891</td>\n",
       "      <td>7118600</td>\n",
       "      <td>SBUX</td>\n",
       "      <td>0.003432</td>\n",
       "    </tr>\n",
       "    <tr>\n",
       "      <th>3</th>\n",
       "      <td>2024-01-05</td>\n",
       "      <td>93.330002</td>\n",
       "      <td>93.580002</td>\n",
       "      <td>92.480003</td>\n",
       "      <td>92.989998</td>\n",
       "      <td>89.506851</td>\n",
       "      <td>7189900</td>\n",
       "      <td>SBUX</td>\n",
       "      <td>-0.005986</td>\n",
       "    </tr>\n",
       "    <tr>\n",
       "      <th>4</th>\n",
       "      <td>2024-01-08</td>\n",
       "      <td>93.019997</td>\n",
       "      <td>94.570000</td>\n",
       "      <td>92.949997</td>\n",
       "      <td>94.190002</td>\n",
       "      <td>90.661919</td>\n",
       "      <td>7536900</td>\n",
       "      <td>SBUX</td>\n",
       "      <td>0.012905</td>\n",
       "    </tr>\n",
       "    <tr>\n",
       "      <th>5</th>\n",
       "      <td>2024-01-09</td>\n",
       "      <td>93.610001</td>\n",
       "      <td>93.730003</td>\n",
       "      <td>92.860001</td>\n",
       "      <td>93.089996</td>\n",
       "      <td>89.603111</td>\n",
       "      <td>6348500</td>\n",
       "      <td>SBUX</td>\n",
       "      <td>-0.011679</td>\n",
       "    </tr>\n",
       "  </tbody>\n",
       "</table>\n",
       "</div>"
      ],
      "text/plain": [
       "         date       open       high        low      close   adjclose   volume  \\\n",
       "1  2024-01-03  93.959999  94.239998  93.059998  93.230003  89.737869  7161700   \n",
       "2  2024-01-04  93.099998  94.580002  93.000000  93.550003  90.045891  7118600   \n",
       "3  2024-01-05  93.330002  93.580002  92.480003  92.989998  89.506851  7189900   \n",
       "4  2024-01-08  93.019997  94.570000  92.949997  94.190002  90.661919  7536900   \n",
       "5  2024-01-09  93.610001  93.730003  92.860001  93.089996  89.603111  6348500   \n",
       "\n",
       "  ticker   returns  \n",
       "1   SBUX -0.004697  \n",
       "2   SBUX  0.003432  \n",
       "3   SBUX -0.005986  \n",
       "4   SBUX  0.012905  \n",
       "5   SBUX -0.011679  "
      ]
     },
     "execution_count": 3,
     "metadata": {},
     "output_type": "execute_result"
    }
   ],
   "source": [
    "event_date = '2024-08-13'\n",
    "prices = pd.read_csv('../data/sbux_ceo_prices.csv')\n",
    "prices = prices[prices['returns'].isnull()==0].copy()\n",
    "print(prices['date'].agg(['min','max']))\n",
    "prices.head()"
   ]
  },
  {
   "cell_type": "markdown",
   "id": "e46d6efc",
   "metadata": {},
   "source": [
    "### Estimate event study model"
   ]
  },
  {
   "cell_type": "code",
   "execution_count": 4,
   "id": "c43df1dd",
   "metadata": {},
   "outputs": [],
   "source": [
    "#TO-DO: EVENT STUDIES REQUIRE EACH COMPARISON GROUP TO BE A SEPARATE COLUMN. \n",
    "# RESHAPE THE DATA SO THAT THERE IS ONE ROW PER DATE AND EACH TICKER HAS ITS OWN COLUMN \n"
   ]
  },
  {
   "cell_type": "code",
   "execution_count": null,
   "id": "3304e194",
   "metadata": {},
   "outputs": [
    {
     "name": "stdout",
     "output_type": "stream",
     "text": [
      "                            OLS Regression Results                            \n",
      "==============================================================================\n",
      "Dep. Variable:                   SBUX   R-squared:                       0.651\n",
      "Model:                            OLS   Adj. R-squared:                  0.634\n",
      "Method:                 Least Squares   F-statistic:                     36.91\n",
      "Date:                Mon, 16 Jun 2025   Prob (F-statistic):           2.23e-17\n",
      "Time:                        23:10:02   Log-Likelihood:                 203.84\n",
      "No. Observations:                  84   AIC:                            -397.7\n",
      "Df Residuals:                      79   BIC:                            -385.5\n",
      "Df Model:                           4                                         \n",
      "Covariance Type:            nonrobust                                         \n",
      "==============================================================================\n",
      "                 coef    std err          t      P>|t|      [0.025      0.975]\n",
      "------------------------------------------------------------------------------\n",
      "Intercept     -0.0007      0.002     -0.295      0.769      -0.006       0.004\n",
      "MCD           -0.1107      0.226     -0.490      0.625      -0.560       0.339\n",
      "VOO            0.0465      0.295      0.158      0.875      -0.541       0.634\n",
      "YUM            1.1301      0.263      4.295      0.000       0.606       1.654\n",
      "event          0.2289      0.023     10.058      0.000       0.184       0.274\n",
      "==============================================================================\n",
      "Omnibus:                       38.995   Durbin-Watson:                   2.507\n",
      "Prob(Omnibus):                  0.000   Jarque-Bera (JB):              299.584\n",
      "Skew:                          -1.066   Prob(JB):                     8.83e-66\n",
      "Kurtosis:                      12.003   Cond. No.                         137.\n",
      "==============================================================================\n",
      "\n",
      "Notes:\n",
      "[1] Standard Errors assume that the covariance matrix of the errors is correctly specified.\n"
     ]
    }
   ],
   "source": [
    "preperiod_days = 120\n",
    "postperiod_days = 1\n",
    "\n",
    "event_date = pd.to_datetime(event_date)\n",
    "model_start_date = \n",
    "model_end_date = \n",
    "\n",
    "# TO-DO: SUBSET THE DATA FOR RELEVANT DATES AND THEN RUN THE EVENT STUDY MODEL \n",
    "subset = \n",
    "formula = \n",
    "model = smf.ols(formula=formula, data=subset).fit()\n",
    "print(model.summary())\n"
   ]
  },
  {
   "cell_type": "code",
   "execution_count": null,
   "id": "6c75c695",
   "metadata": {},
   "outputs": [
    {
     "name": "stdout",
     "output_type": "stream",
     "text": [
      "Last Market Value: $87,259,582,617\n",
      "Estimated Gain: $19,976,389,929\n"
     ]
    }
   ],
   "source": [
    "# TO-DO: 1. Obtain the baseline market value (shares * price) just prior to the event date. \n",
    "#        2. What is the estimated nominal market value gain (in dollars) from the event? \n",
    "\n",
    "total_shares = 1132800000\n",
    "lastmarketvalue = \n",
    "\n",
    "print(\"Last Market Value: ${:,}\".format(round(lastmarketvalue)))\n",
    "print(\"Estimated Gain: ${:,}\".format())"
   ]
  },
  {
   "cell_type": "code",
   "execution_count": null,
   "id": "7dbf2d23",
   "metadata": {},
   "outputs": [
    {
     "name": "stdout",
     "output_type": "stream",
     "text": [
      "Mean Placebo Effect: 0.001\n",
      "RMSE: 0.026\n"
     ]
    },
    {
     "data": {
      "image/png": "[encoded data removed]",
      "text/plain": [
       "<Figure size 640x480 with 1 Axes>"
      ]
     },
     "metadata": {},
     "output_type": "display_data"
    }
   ],
   "source": [
    "# TO-DO: Get a distribution of placebo results\n",
    "# 1. Replicate the analysis for each day for 120 days prior to the true event date: \n",
    "#    For each date between (event_date - 120 and event_date - 1), pretend that is the event. \n",
    "# 2. Save the distribution of placebo treatment effect estimates for each of those dates\n",
    "# 3. Plot the distribution as a histogram with black vertical lines for the 95% confidence interval bounds \n",
    "#    and a red vertical line for the effect at the real event date\n",
    "# 4. What is the root mean squared error of the placebo effects? \n",
    "#    You want a small RMSE (low variance) and the distribution should be centered around zero (unbiased)\n",
    "\n",
    "pre_event_dates = \n",
    "\n",
    "print(f\"Mean Placebo Effect: {}\")\n",
    "print(f\"RMSE: {}\")\n",
    "\n",
    "plot_histogram()"
   ]
  }
 ],
 "metadata": {
  "kernelspec": {
   "display_name": "venv",
   "language": "python",
   "name": "python3"
  },
  "language_info": {
   "codemirror_mode": {
    "name": "ipython",
    "version": 3
   },
   "file_extension": ".py",
   "mimetype": "text/x-python",
   "name": "python",
   "nbconvert_exporter": "python",
   "pygments_lexer": "ipython3",
   "version": "3.9.6"
  }
 },
 "nbformat": 4,
 "nbformat_minor": 5
}
