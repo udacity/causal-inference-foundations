{
 "cells": [
  {
   "cell_type": "markdown",
   "metadata": {},
   "source": [
    "#### Exercise 14 - Starter - Validate Regression Discontinuity"
   ]
  },
  {
   "cell_type": "code",
   "execution_count": null,
   "metadata": {},
   "outputs": [],
   "source": [
    "# Import pandas as statsmodels.formula.api \n"
   ]
  },
  {
   "cell_type": "code",
   "execution_count": null,
   "metadata": {},
   "outputs": [],
   "source": [
    "# TO-DO: Import rd_employee_sales_data.csv and print the share of part-time employees by training status \n",
    "# Are the two groups comparable?  \n",
    "\n",
    "# TO-DO: Using scipy.stats, perform a t-test to compare the average share of employees that are part-time\n",
    "# among those who have received training versus those who have not."
   ]
  },
  {
   "cell_type": "code",
   "execution_count": null,
   "metadata": {},
   "outputs": [],
   "source": [
    "cutoff = 40\n",
    "\n",
    "# TO-DO: Subset only keeping employees within a +/- 10 window of Year1_Sales around the cutoff \n",
    "# and print the share of part-time employees by training status for this subset\n"
   ]
  },
  {
   "cell_type": "code",
   "execution_count": null,
   "metadata": {},
   "outputs": [],
   "source": [
    "# TO-DO: Run a placebo RD model completely below the true cutoff\n",
    "\n",
    "# TO-DO: Subset the data to only include employees with Year1_Sales below the cutoff: \n",
    "# This excludes any employees who received training\n",
    "\n",
    "# TO-DO: Define a new cutoff for the placebo test and create a binary variable for training status (if Year1_Sales >= placebo_cutoff)\n",
    "placebo_cutoff = 30 \n",
    "\n",
    "\n",
    "# TO-DO: Subset the placebo data to only include employees within a +/- 10 window of Year1_Sales around the placebo cutoff \n",
    "\n",
    "\n",
    "# TO-DO: Run the placebo RD model using the placebo subset and the placebo cutoff \n"
   ]
  }
 ],
 "metadata": {
  "kernelspec": {
   "display_name": "venv",
   "language": "python",
   "name": "python3"
  },
  "language_info": {
   "codemirror_mode": {
    "name": "ipython",
    "version": 3
   },
   "file_extension": ".py",
   "mimetype": "text/x-python",
   "name": "python",
   "nbconvert_exporter": "python",
   "pygments_lexer": "ipython3",
   "version": "3.9.6"
  }
 },
 "nbformat": 4,
 "nbformat_minor": 2
}
